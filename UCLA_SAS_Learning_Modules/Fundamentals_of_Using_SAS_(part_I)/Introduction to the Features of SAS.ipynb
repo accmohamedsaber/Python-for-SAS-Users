{
 "cells": [
  {
   "cell_type": "code",
   "execution_count": 78,
   "metadata": {
    "collapsed": false
   },
   "outputs": [
    {
     "name": "stdout",
     "output_type": "stream",
     "text": [
      "Python 2.7.10 :: Anaconda 2.2.0 (x86_64)\n",
      "pandas version: 0.16.2\n"
     ]
    }
   ],
   "source": [
    "!python -V\n",
    "import StringIO\n",
    "import pandas as pd\n",
    "print \"pandas version:\", pd.__version__"
   ]
  },
  {
   "cell_type": "markdown",
   "metadata": {},
   "source": [
    "#1. Introduction\n",
    "\n",
    "This notebook will correspond to the [Introduction to the features of SAS](http://www.ats.ucla.edu/stat/sas/modules/intsas.htm) page. That tutorial covers basic features of SAS and applies them to the cars dataset. The dataset contains variables on **make, price, miles per gallon, repair rating (in 1978), weight in pounds, length in inches,** and whether the car was **foreign** or **domestic**.\n",
    "\n",
    "Note: If you haven't read the **Main Differences Between SAS and Python** file, please read at this point. It covers important topics like importing packages and declaring objects.\n",
    "\n",
    "---\n",
    "##Importing the data\n",
    "A common way of importing small data within SAS is the `datalines` [statement](https://support.sas.com/documentation/cdl/en/lrdict/64316/HTML/default/viewer.htm#a000188182.htm) which enters data directly into a program. In Python  equivalent functionality is possible by creating an object of the `StringIO` [class](https://docs.python.org/2/library/stringio.html) with the data. This object stores a string in memory for us to read in using `read_table` with `pandas`.\n",
    "\n",
    "We will store this string in a variable named `datalines`.\n",
    "\n"
   ]
  },
  {
   "cell_type": "markdown",
   "metadata": {},
   "source": [
    "<div class=\"pynote\">\n",
    "**Python Note**: Multiline strings start with triple quotes `'''` \n",
    "</div>"
   ]
  },
  {
   "cell_type": "code",
   "execution_count": 79,
   "metadata": {
    "collapsed": true
   },
   "outputs": [],
   "source": [
    "datalines = StringIO.StringIO('''\n",
    "AMC     4099 22  3     2930   186    0\n",
    "AMC     4749 17  3     3350   173    0\n",
    "AMC     3799 22  3     2640   168    0\n",
    "Audi    9690 17  5     2830   189    1\n",
    "Audi    6295 23  3     2070   174    1\n",
    "BMW     9735 25  4     2650   177    1\n",
    "Buick   4816 20  3     3250   196    0\n",
    "Buick   7827 15  4     4080   222    0\n",
    "Buick   5788 18  3     3670   218    0\n",
    "Buick   4453 26  3     2230   170    0\n",
    "Buick   5189 20  3     3280   200    0\n",
    "Buick  10372 16  3     3880   207    0\n",
    "Buick   4082 19  3     3400   200    0\n",
    "Cad.   11385 14  3     4330   221    0\n",
    "Cad.   14500 14  2     3900   204    0\n",
    "Cad.   15906 21  3     4290   204    0\n",
    "Chev.   3299 29  3     2110   163    0\n",
    "Chev.   5705 16  4     3690   212    0\n",
    "Chev.   4504 22  3     3180   193    0\n",
    "Chev.   5104 22  2     3220   200    0\n",
    "Chev.   3667 24  2     2750   179    0\n",
    "Chev.   3955 19  3     3430   197    0\n",
    "Datsun  6229 23  4     2370   170    1\n",
    "Datsun  4589 35  5     2020   165    1\n",
    "Datsun  5079 24  4     2280   170    1\n",
    "Datsun  8129 21  4     2750   184    1\n",
    "''')"
   ]
  },
  {
   "cell_type": "markdown",
   "metadata": {},
   "source": [
    "###SAS Code\n",
    "    DATA auto ;\n",
    "        INPUT make $ price mpg rep78 weight length foreign ;\n",
    "        datalines;\n",
    "        [data]\n",
    "        run;\n",
    "\n",
    "\n",
    "####Python Code\n"
   ]
  },
  {
   "cell_type": "code",
   "execution_count": 80,
   "metadata": {
    "collapsed": false
   },
   "outputs": [],
   "source": [
    "auto = pd.read_table(datalines,\n",
    "                     delim_whitespace=True,\n",
    "                     names=['make', 'price', 'mpg', 'rep78', 'weight', 'length', 'foreign'])"
   ]
  },
  {
   "cell_type": "code",
   "execution_count": 81,
   "metadata": {
    "collapsed": true
   },
   "outputs": [],
   "source": [
    "datalines.close()"
   ]
  },
  {
   "cell_type": "markdown",
   "metadata": {},
   "source": [
    "<div class=\"pynote\">\n",
    "\n",
    "**Python Notes**\n",
    "`pd.read_table` calls the `read_table()` function from the `pandas` package. The first argument is the data we want to read, in this instance our `datalines` variable. Often you'll replace this first argument with a file location pointing to the file you want to read into a <em>DataFrame</em>. The `delim_whitespace=` argument informs the function that the file should parse whitespace as a delimiter. The `names` argument is similar to SAS `INPUT` statement, which provides names for all the variables. One difference is that the variables' type is inferred rather than explicitly stated by using the `$` indicator in SAS.  \n",
    "<br>\n",
    "`datalines.close()` frees up the memory buffer we created to store our string object. We won't need it anymore since the data is now stored in `auto`.\n",
    "</div>"
   ]
  },
  {
   "cell_type": "markdown",
   "metadata": {},
   "source": [
    "## Viewing a sample of the data\n",
    "`PROC PRINT` prints a sample of the data to ODS. In Python, .head() is a function that performs equivalently on a `DataFrame` object. Instead of the `obs=10` argument it's `n=10` or simply `10` inside the parenthesis.\n",
    "\n",
    "###SAS Code\n",
    "    PROC PRINT DATA=auto(obs=10);\n",
    "    RUN;    \n",
    "####Python Code"
   ]
  },
  {
   "cell_type": "code",
   "execution_count": 176,
   "metadata": {
    "collapsed": false
   },
   "outputs": [
    {
     "data": {
      "text/html": [
       "<div>\n",
       "<table border=\"1\" class=\"dataframe\">\n",
       "  <thead>\n",
       "    <tr style=\"text-align: right;\">\n",
       "      <th></th>\n",
       "      <th>make</th>\n",
       "      <th>price</th>\n",
       "      <th>mpg</th>\n",
       "      <th>rep78</th>\n",
       "      <th>weight</th>\n",
       "      <th>length</th>\n",
       "      <th>foreign</th>\n",
       "    </tr>\n",
       "  </thead>\n",
       "  <tbody>\n",
       "    <tr>\n",
       "      <th>0</th>\n",
       "      <td>AMC</td>\n",
       "      <td>4099</td>\n",
       "      <td>22</td>\n",
       "      <td>3</td>\n",
       "      <td>2930</td>\n",
       "      <td>186</td>\n",
       "      <td>0</td>\n",
       "    </tr>\n",
       "    <tr>\n",
       "      <th>1</th>\n",
       "      <td>AMC</td>\n",
       "      <td>4749</td>\n",
       "      <td>17</td>\n",
       "      <td>3</td>\n",
       "      <td>3350</td>\n",
       "      <td>173</td>\n",
       "      <td>0</td>\n",
       "    </tr>\n",
       "    <tr>\n",
       "      <th>2</th>\n",
       "      <td>AMC</td>\n",
       "      <td>3799</td>\n",
       "      <td>22</td>\n",
       "      <td>3</td>\n",
       "      <td>2640</td>\n",
       "      <td>168</td>\n",
       "      <td>0</td>\n",
       "    </tr>\n",
       "    <tr>\n",
       "      <th>3</th>\n",
       "      <td>Audi</td>\n",
       "      <td>9690</td>\n",
       "      <td>17</td>\n",
       "      <td>5</td>\n",
       "      <td>2830</td>\n",
       "      <td>189</td>\n",
       "      <td>1</td>\n",
       "    </tr>\n",
       "    <tr>\n",
       "      <th>4</th>\n",
       "      <td>Audi</td>\n",
       "      <td>6295</td>\n",
       "      <td>23</td>\n",
       "      <td>3</td>\n",
       "      <td>2070</td>\n",
       "      <td>174</td>\n",
       "      <td>1</td>\n",
       "    </tr>\n",
       "    <tr>\n",
       "      <th>5</th>\n",
       "      <td>BMW</td>\n",
       "      <td>9735</td>\n",
       "      <td>25</td>\n",
       "      <td>4</td>\n",
       "      <td>2650</td>\n",
       "      <td>177</td>\n",
       "      <td>1</td>\n",
       "    </tr>\n",
       "    <tr>\n",
       "      <th>6</th>\n",
       "      <td>Buick</td>\n",
       "      <td>4816</td>\n",
       "      <td>20</td>\n",
       "      <td>3</td>\n",
       "      <td>3250</td>\n",
       "      <td>196</td>\n",
       "      <td>0</td>\n",
       "    </tr>\n",
       "    <tr>\n",
       "      <th>7</th>\n",
       "      <td>Buick</td>\n",
       "      <td>7827</td>\n",
       "      <td>15</td>\n",
       "      <td>4</td>\n",
       "      <td>4080</td>\n",
       "      <td>222</td>\n",
       "      <td>0</td>\n",
       "    </tr>\n",
       "    <tr>\n",
       "      <th>8</th>\n",
       "      <td>Buick</td>\n",
       "      <td>5788</td>\n",
       "      <td>18</td>\n",
       "      <td>3</td>\n",
       "      <td>3670</td>\n",
       "      <td>218</td>\n",
       "      <td>0</td>\n",
       "    </tr>\n",
       "    <tr>\n",
       "      <th>9</th>\n",
       "      <td>Buick</td>\n",
       "      <td>4453</td>\n",
       "      <td>26</td>\n",
       "      <td>3</td>\n",
       "      <td>2230</td>\n",
       "      <td>170</td>\n",
       "      <td>0</td>\n",
       "    </tr>\n",
       "  </tbody>\n",
       "</table>\n",
       "</div>"
      ],
      "text/plain": [
       "    make  price  mpg  rep78  weight  length  foreign\n",
       "0    AMC   4099   22      3    2930     186        0\n",
       "1    AMC   4749   17      3    3350     173        0\n",
       "2    AMC   3799   22      3    2640     168        0\n",
       "3   Audi   9690   17      5    2830     189        1\n",
       "4   Audi   6295   23      3    2070     174        1\n",
       "5    BMW   9735   25      4    2650     177        1\n",
       "6  Buick   4816   20      3    3250     196        0\n",
       "7  Buick   7827   15      4    4080     222        0\n",
       "8  Buick   5788   18      3    3670     218        0\n",
       "9  Buick   4453   26      3    2230     170        0"
      ]
     },
     "execution_count": 176,
     "metadata": {},
     "output_type": "execute_result"
    }
   ],
   "source": [
    "auto.head(10)"
   ]
  },
  {
   "cell_type": "markdown",
   "metadata": {},
   "source": [
    "<div class=\"pynote\">\n",
    "**Python Note**: All objects are [zero indexed](https://en.wikipedia.org/wiki/Zero-based_numbering)\n",
    "</div>"
   ]
  },
  {
   "cell_type": "markdown",
   "metadata": {},
   "source": [
    "##2. Descriptive Statistics\n",
    "Similar to SAS's `PROC MEANS` is the  `.describe()` function called on a `DataFrame`. This will print out basic descriptive statistics on all continuous variables by default, and also contains some overlap with the distributional details of `PROC UNIVARIATE`.\n",
    "\n",
    "###SAS Code\n",
    "    PROC MEANS DATA=auto;\n",
    "    RUN; \n",
    "    \n",
    "####Python Code"
   ]
  },
  {
   "cell_type": "code",
   "execution_count": 154,
   "metadata": {
    "collapsed": false
   },
   "outputs": [
    {
     "data": {
      "text/html": [
       "<div>\n",
       "<table border=\"1\" class=\"dataframe\">\n",
       "  <thead>\n",
       "    <tr style=\"text-align: right;\">\n",
       "      <th></th>\n",
       "      <th>price</th>\n",
       "      <th>mpg</th>\n",
       "      <th>rep78</th>\n",
       "      <th>weight</th>\n",
       "      <th>length</th>\n",
       "      <th>foreign</th>\n",
       "    </tr>\n",
       "  </thead>\n",
       "  <tbody>\n",
       "    <tr>\n",
       "      <th>count</th>\n",
       "      <td>26.000000</td>\n",
       "      <td>26.000000</td>\n",
       "      <td>26.000000</td>\n",
       "      <td>26.000000</td>\n",
       "      <td>26.000000</td>\n",
       "      <td>26.000000</td>\n",
       "    </tr>\n",
       "    <tr>\n",
       "      <th>mean</th>\n",
       "      <td>6651.730769</td>\n",
       "      <td>20.923077</td>\n",
       "      <td>3.269231</td>\n",
       "      <td>3099.230769</td>\n",
       "      <td>190.076923</td>\n",
       "      <td>0.269231</td>\n",
       "    </tr>\n",
       "    <tr>\n",
       "      <th>std</th>\n",
       "      <td>3371.119809</td>\n",
       "      <td>4.757504</td>\n",
       "      <td>0.777570</td>\n",
       "      <td>695.079409</td>\n",
       "      <td>18.170136</td>\n",
       "      <td>0.452344</td>\n",
       "    </tr>\n",
       "    <tr>\n",
       "      <th>min</th>\n",
       "      <td>3299.000000</td>\n",
       "      <td>14.000000</td>\n",
       "      <td>2.000000</td>\n",
       "      <td>2020.000000</td>\n",
       "      <td>163.000000</td>\n",
       "      <td>0.000000</td>\n",
       "    </tr>\n",
       "    <tr>\n",
       "      <th>25%</th>\n",
       "      <td>4465.750000</td>\n",
       "      <td>17.250000</td>\n",
       "      <td>3.000000</td>\n",
       "      <td>2642.500000</td>\n",
       "      <td>173.250000</td>\n",
       "      <td>0.000000</td>\n",
       "    </tr>\n",
       "    <tr>\n",
       "      <th>50%</th>\n",
       "      <td>5146.500000</td>\n",
       "      <td>21.000000</td>\n",
       "      <td>3.000000</td>\n",
       "      <td>3200.000000</td>\n",
       "      <td>191.000000</td>\n",
       "      <td>0.000000</td>\n",
       "    </tr>\n",
       "    <tr>\n",
       "      <th>75%</th>\n",
       "      <td>8053.500000</td>\n",
       "      <td>23.000000</td>\n",
       "      <td>4.000000</td>\n",
       "      <td>3610.000000</td>\n",
       "      <td>203.000000</td>\n",
       "      <td>0.750000</td>\n",
       "    </tr>\n",
       "    <tr>\n",
       "      <th>max</th>\n",
       "      <td>15906.000000</td>\n",
       "      <td>35.000000</td>\n",
       "      <td>5.000000</td>\n",
       "      <td>4330.000000</td>\n",
       "      <td>222.000000</td>\n",
       "      <td>1.000000</td>\n",
       "    </tr>\n",
       "  </tbody>\n",
       "</table>\n",
       "</div>"
      ],
      "text/plain": [
       "              price        mpg      rep78       weight      length    foreign\n",
       "count     26.000000  26.000000  26.000000    26.000000   26.000000  26.000000\n",
       "mean    6651.730769  20.923077   3.269231  3099.230769  190.076923   0.269231\n",
       "std     3371.119809   4.757504   0.777570   695.079409   18.170136   0.452344\n",
       "min     3299.000000  14.000000   2.000000  2020.000000  163.000000   0.000000\n",
       "25%     4465.750000  17.250000   3.000000  2642.500000  173.250000   0.000000\n",
       "50%     5146.500000  21.000000   3.000000  3200.000000  191.000000   0.000000\n",
       "75%     8053.500000  23.000000   4.000000  3610.000000  203.000000   0.750000\n",
       "max    15906.000000  35.000000   5.000000  4330.000000  222.000000   1.000000"
      ]
     },
     "execution_count": 154,
     "metadata": {},
     "output_type": "execute_result"
    }
   ],
   "source": [
    "auto.describe()"
   ]
  },
  {
   "cell_type": "markdown",
   "metadata": {},
   "source": [
    "You can get descriptive statistics separately for foreign and domestic cars (i.e. broken down by *foreign*) as shown below. For additional reference, see `pandas` [groupby](http://pandas.pydata.org/pandas-docs/stable/groupby.html) documentation."
   ]
  },
  {
   "cell_type": "code",
   "execution_count": 89,
   "metadata": {
    "collapsed": false
   },
   "outputs": [
    {
     "data": {
      "text/html": [
       "<div>\n",
       "<table border=\"1\" class=\"dataframe\">\n",
       "  <thead>\n",
       "    <tr style=\"text-align: right;\">\n",
       "      <th></th>\n",
       "      <th></th>\n",
       "      <th>length</th>\n",
       "      <th>mpg</th>\n",
       "      <th>price</th>\n",
       "      <th>rep78</th>\n",
       "      <th>weight</th>\n",
       "    </tr>\n",
       "    <tr>\n",
       "      <th>foreign</th>\n",
       "      <th></th>\n",
       "      <th></th>\n",
       "      <th></th>\n",
       "      <th></th>\n",
       "      <th></th>\n",
       "      <th></th>\n",
       "    </tr>\n",
       "  </thead>\n",
       "  <tbody>\n",
       "    <tr>\n",
       "      <th rowspan=\"8\" valign=\"top\">0</th>\n",
       "      <th>count</th>\n",
       "      <td>19.000000</td>\n",
       "      <td>19.000000</td>\n",
       "      <td>19.000000</td>\n",
       "      <td>19.000000</td>\n",
       "      <td>19.000000</td>\n",
       "    </tr>\n",
       "    <tr>\n",
       "      <th>mean</th>\n",
       "      <td>195.421053</td>\n",
       "      <td>19.789474</td>\n",
       "      <td>6484.157895</td>\n",
       "      <td>2.947368</td>\n",
       "      <td>3347.894737</td>\n",
       "    </tr>\n",
       "    <tr>\n",
       "      <th>std</th>\n",
       "      <td>17.963901</td>\n",
       "      <td>4.035660</td>\n",
       "      <td>3768.461479</td>\n",
       "      <td>0.524265</td>\n",
       "      <td>627.176911</td>\n",
       "    </tr>\n",
       "    <tr>\n",
       "      <th>min</th>\n",
       "      <td>163.000000</td>\n",
       "      <td>14.000000</td>\n",
       "      <td>3299.000000</td>\n",
       "      <td>2.000000</td>\n",
       "      <td>2110.000000</td>\n",
       "    </tr>\n",
       "    <tr>\n",
       "      <th>25%</th>\n",
       "      <td>182.500000</td>\n",
       "      <td>16.500000</td>\n",
       "      <td>4090.500000</td>\n",
       "      <td>3.000000</td>\n",
       "      <td>3055.000000</td>\n",
       "    </tr>\n",
       "    <tr>\n",
       "      <th>50%</th>\n",
       "      <td>200.000000</td>\n",
       "      <td>20.000000</td>\n",
       "      <td>4816.000000</td>\n",
       "      <td>3.000000</td>\n",
       "      <td>3350.000000</td>\n",
       "    </tr>\n",
       "    <tr>\n",
       "      <th>75%</th>\n",
       "      <td>205.500000</td>\n",
       "      <td>22.000000</td>\n",
       "      <td>6807.500000</td>\n",
       "      <td>3.000000</td>\n",
       "      <td>3785.000000</td>\n",
       "    </tr>\n",
       "    <tr>\n",
       "      <th>max</th>\n",
       "      <td>222.000000</td>\n",
       "      <td>29.000000</td>\n",
       "      <td>15906.000000</td>\n",
       "      <td>4.000000</td>\n",
       "      <td>4330.000000</td>\n",
       "    </tr>\n",
       "    <tr>\n",
       "      <th rowspan=\"8\" valign=\"top\">1</th>\n",
       "      <th>count</th>\n",
       "      <td>7.000000</td>\n",
       "      <td>7.000000</td>\n",
       "      <td>7.000000</td>\n",
       "      <td>7.000000</td>\n",
       "      <td>7.000000</td>\n",
       "    </tr>\n",
       "    <tr>\n",
       "      <th>mean</th>\n",
       "      <td>175.571429</td>\n",
       "      <td>24.000000</td>\n",
       "      <td>7106.571429</td>\n",
       "      <td>4.142857</td>\n",
       "      <td>2424.285714</td>\n",
       "    </tr>\n",
       "    <tr>\n",
       "      <th>std</th>\n",
       "      <td>8.462804</td>\n",
       "      <td>5.507571</td>\n",
       "      <td>2101.828240</td>\n",
       "      <td>0.690066</td>\n",
       "      <td>325.159302</td>\n",
       "    </tr>\n",
       "    <tr>\n",
       "      <th>min</th>\n",
       "      <td>165.000000</td>\n",
       "      <td>17.000000</td>\n",
       "      <td>4589.000000</td>\n",
       "      <td>3.000000</td>\n",
       "      <td>2020.000000</td>\n",
       "    </tr>\n",
       "    <tr>\n",
       "      <th>25%</th>\n",
       "      <td>170.000000</td>\n",
       "      <td>22.000000</td>\n",
       "      <td>5654.000000</td>\n",
       "      <td>4.000000</td>\n",
       "      <td>2175.000000</td>\n",
       "    </tr>\n",
       "    <tr>\n",
       "      <th>50%</th>\n",
       "      <td>174.000000</td>\n",
       "      <td>23.000000</td>\n",
       "      <td>6295.000000</td>\n",
       "      <td>4.000000</td>\n",
       "      <td>2370.000000</td>\n",
       "    </tr>\n",
       "    <tr>\n",
       "      <th>75%</th>\n",
       "      <td>180.500000</td>\n",
       "      <td>24.500000</td>\n",
       "      <td>8909.500000</td>\n",
       "      <td>4.500000</td>\n",
       "      <td>2700.000000</td>\n",
       "    </tr>\n",
       "    <tr>\n",
       "      <th>max</th>\n",
       "      <td>189.000000</td>\n",
       "      <td>35.000000</td>\n",
       "      <td>9735.000000</td>\n",
       "      <td>5.000000</td>\n",
       "      <td>2830.000000</td>\n",
       "    </tr>\n",
       "  </tbody>\n",
       "</table>\n",
       "</div>"
      ],
      "text/plain": [
       "                   length        mpg         price      rep78       weight\n",
       "foreign                                                                   \n",
       "0       count   19.000000  19.000000     19.000000  19.000000    19.000000\n",
       "        mean   195.421053  19.789474   6484.157895   2.947368  3347.894737\n",
       "        std     17.963901   4.035660   3768.461479   0.524265   627.176911\n",
       "        min    163.000000  14.000000   3299.000000   2.000000  2110.000000\n",
       "        25%    182.500000  16.500000   4090.500000   3.000000  3055.000000\n",
       "        50%    200.000000  20.000000   4816.000000   3.000000  3350.000000\n",
       "        75%    205.500000  22.000000   6807.500000   3.000000  3785.000000\n",
       "        max    222.000000  29.000000  15906.000000   4.000000  4330.000000\n",
       "1       count    7.000000   7.000000      7.000000   7.000000     7.000000\n",
       "        mean   175.571429  24.000000   7106.571429   4.142857  2424.285714\n",
       "        std      8.462804   5.507571   2101.828240   0.690066   325.159302\n",
       "        min    165.000000  17.000000   4589.000000   3.000000  2020.000000\n",
       "        25%    170.000000  22.000000   5654.000000   4.000000  2175.000000\n",
       "        50%    174.000000  23.000000   6295.000000   4.000000  2370.000000\n",
       "        75%    180.500000  24.500000   8909.500000   4.500000  2700.000000\n",
       "        max    189.000000  35.000000   9735.000000   5.000000  2830.000000"
      ]
     },
     "execution_count": 89,
     "metadata": {},
     "output_type": "execute_result"
    }
   ],
   "source": [
    "auto.groupby('foreign').describe()"
   ]
  },
  {
   "cell_type": "markdown",
   "metadata": {},
   "source": [
    "###Detailed Univariate Statistics\n",
    "The next point in the original tutorial covers `PROC UNIVARIATE` on the **price** variable. `PROC UNIVARIATE` has a significant amount of output. We'll try and replicate the main functions of that proc, but will leave other functions (like t-tests) out of it. We'll cover:\n",
    "- Skew / Kurtosis\n",
    "- Extreme observations (top / bottom 5)\n",
    "- Additional quintiles beyond 0/25/50/75/100%\n",
    "\n",
    "**Skew / Kurtosis**  \n",
    "`pandas` has built in [Skew](http://pandas.pydata.org/pandas-docs/stable/generated/pandas.DataFrame.skew.html) / [Kurtosis](http://pandas.pydata.org/pandas-docs/stable/generated/pandas.DataFrame.kurtosis.html) functions that operate on a data frame. We will specify a column/variable to apply these functions to by using `pandas` convenient [dictionary notation](http://pandas.pydata.org/pandas-docs/stable/dsintro.html#column-selection-addition-deletion)."
   ]
  },
  {
   "cell_type": "code",
   "execution_count": 94,
   "metadata": {
    "collapsed": false
   },
   "outputs": [
    {
     "data": {
      "text/plain": [
       "1.4707269994573371"
      ]
     },
     "execution_count": 94,
     "metadata": {},
     "output_type": "execute_result"
    }
   ],
   "source": [
    "auto['price'].skew()"
   ]
  },
  {
   "cell_type": "code",
   "execution_count": 95,
   "metadata": {
    "collapsed": false
   },
   "outputs": [
    {
     "data": {
      "text/plain": [
       "1.5346717037845785"
      ]
     },
     "execution_count": 95,
     "metadata": {},
     "output_type": "execute_result"
    }
   ],
   "source": [
    "auto['price'].kurtosis()"
   ]
  },
  {
   "cell_type": "markdown",
   "metadata": {},
   "source": [
    "**Extreme Observations (Top & Bottom 5)**  \n",
    "To do this, we'll apply the `.order()` function on the **price** series first and use the simple `.head()` and `.tail()` functions on that ordered series."
   ]
  },
  {
   "cell_type": "code",
   "execution_count": 104,
   "metadata": {
    "collapsed": false
   },
   "outputs": [
    {
     "data": {
      "text/plain": [
       "16    3299\n",
       "20    3667\n",
       "2     3799\n",
       "21    3955\n",
       "12    4082\n",
       "Name: price, dtype: int64"
      ]
     },
     "execution_count": 104,
     "metadata": {},
     "output_type": "execute_result"
    }
   ],
   "source": [
    "auto['price'].order().head() # Bottom 5 (Minimums) and observation numbers"
   ]
  },
  {
   "cell_type": "code",
   "execution_count": 105,
   "metadata": {
    "collapsed": false
   },
   "outputs": [
    {
     "data": {
      "text/plain": [
       "5      9735\n",
       "11    10372\n",
       "13    11385\n",
       "14    14500\n",
       "15    15906\n",
       "Name: price, dtype: int64"
      ]
     },
     "execution_count": 105,
     "metadata": {},
     "output_type": "execute_result"
    }
   ],
   "source": [
    "auto['price'].order().tail() # Top 5 (Maximums) and observation numbers"
   ]
  },
  {
   "cell_type": "markdown",
   "metadata": {},
   "source": [
    "**Bonus**: The .order() function has an optional argument that changes the default sort order. We can also use this to display, highest to lowest, the greatest 5 values."
   ]
  },
  {
   "cell_type": "code",
   "execution_count": 107,
   "metadata": {
    "collapsed": false
   },
   "outputs": [
    {
     "data": {
      "text/plain": [
       "15    15906\n",
       "14    14500\n",
       "13    11385\n",
       "11    10372\n",
       "5      9735\n",
       "Name: price, dtype: int64"
      ]
     },
     "execution_count": 107,
     "metadata": {},
     "output_type": "execute_result"
    }
   ],
   "source": [
    "auto['price'].order(ascending=False).head() # Top 5 (Maximums), greatest to least"
   ]
  },
  {
   "cell_type": "markdown",
   "metadata": {},
   "source": [
    "**Additional quintiles beyond 0/25/50/75/100%**  \n",
    "`pandas` `.quantile()` function returns the quantile value given a list of percentages."
   ]
  },
  {
   "cell_type": "code",
   "execution_count": 111,
   "metadata": {
    "collapsed": false
   },
   "outputs": [
    {
     "data": {
      "text/plain": [
       "0.99    15554.50\n",
       "0.95    13721.25\n",
       "0.90    10878.50\n",
       "0.10     3877.00\n",
       "0.05     3700.00\n",
       "0.01     3391.00\n",
       "dtype: float64"
      ]
     },
     "execution_count": 111,
     "metadata": {},
     "output_type": "execute_result"
    }
   ],
   "source": [
    "auto['price'].quantile([.99, .95, .90, .10, .05, .01])"
   ]
  },
  {
   "cell_type": "markdown",
   "metadata": {},
   "source": [
    "**Bonus**: You can also supply a `percentiles=` argument to `.describe()` to get similar output, however, it returns the values out of the given order."
   ]
  },
  {
   "cell_type": "code",
   "execution_count": 114,
   "metadata": {
    "collapsed": false
   },
   "outputs": [
    {
     "data": {
      "text/plain": [
       "count       26.000000\n",
       "mean      6651.730769\n",
       "std       3371.119809\n",
       "min       3299.000000\n",
       "10%       3877.000000\n",
       "5%        3700.000000\n",
       "1%        3391.000000\n",
       "50%       5146.500000\n",
       "99%      15554.500000\n",
       "95%      13721.250000\n",
       "90%      10878.500000\n",
       "max      15906.000000\n",
       "Name: price, dtype: float64"
      ]
     },
     "execution_count": 114,
     "metadata": {},
     "output_type": "execute_result"
    }
   ],
   "source": [
    "auto['price'].describe(percentiles=[.99, .95, .90, .10, .05, .01])"
   ]
  },
  {
   "cell_type": "markdown",
   "metadata": {},
   "source": [
    "## Frequency Distributions\n",
    "`PROC FREQ` is one of the most commonly used procedures in SAS. Similar, stripped down, functionality is avialble via the `.value_counts()` function applied on a series."
   ]
  },
  {
   "cell_type": "code",
   "execution_count": 119,
   "metadata": {
    "collapsed": false
   },
   "outputs": [
    {
     "data": {
      "text/plain": [
       "3    15\n",
       "4     6\n",
       "2     3\n",
       "5     2\n",
       "dtype: int64"
      ]
     },
     "execution_count": 119,
     "metadata": {},
     "output_type": "execute_result"
    }
   ],
   "source": [
    "auto['rep78'].value_counts()"
   ]
  },
  {
   "cell_type": "markdown",
   "metadata": {},
   "source": [
    "`.value_counts()` will return values from greatest to least occuring element. To turn this off, supply a `sort=False` argument."
   ]
  },
  {
   "cell_type": "code",
   "execution_count": 120,
   "metadata": {
    "collapsed": false
   },
   "outputs": [
    {
     "data": {
      "text/plain": [
       "2     3\n",
       "3    15\n",
       "4     6\n",
       "5     2\n",
       "dtype: int64"
      ]
     },
     "execution_count": 120,
     "metadata": {},
     "output_type": "execute_result"
    }
   ],
   "source": [
    "auto['rep78'].value_counts(sort=False)"
   ]
  },
  {
   "cell_type": "markdown",
   "metadata": {},
   "source": [
    "To view values as a percentage, supply the `normalize=True` argument. Multiple arguments can also be provided, for example if you don't want to sort the elements."
   ]
  },
  {
   "cell_type": "code",
   "execution_count": 134,
   "metadata": {
    "collapsed": false
   },
   "outputs": [
    {
     "data": {
      "text/plain": [
       "2    0.115385\n",
       "3    0.576923\n",
       "4    0.230769\n",
       "5    0.076923\n",
       "dtype: float64"
      ]
     },
     "execution_count": 134,
     "metadata": {},
     "output_type": "execute_result"
    }
   ],
   "source": [
    "auto['rep78'].value_counts(normalize=True, sort=False)"
   ]
  },
  {
   "cell_type": "code",
   "execution_count": 147,
   "metadata": {
    "collapsed": false
   },
   "outputs": [
    {
     "data": {
      "text/html": [
       "<div>\n",
       "<table border=\"1\" class=\"dataframe\">\n",
       "  <thead>\n",
       "    <tr style=\"text-align: right;\">\n",
       "      <th>foreign</th>\n",
       "      <th>0</th>\n",
       "      <th>1</th>\n",
       "      <th>All</th>\n",
       "    </tr>\n",
       "    <tr>\n",
       "      <th>rep78</th>\n",
       "      <th></th>\n",
       "      <th></th>\n",
       "      <th></th>\n",
       "    </tr>\n",
       "  </thead>\n",
       "  <tbody>\n",
       "    <tr>\n",
       "      <th>2</th>\n",
       "      <td>3</td>\n",
       "      <td>0</td>\n",
       "      <td>3</td>\n",
       "    </tr>\n",
       "    <tr>\n",
       "      <th>3</th>\n",
       "      <td>14</td>\n",
       "      <td>1</td>\n",
       "      <td>15</td>\n",
       "    </tr>\n",
       "    <tr>\n",
       "      <th>4</th>\n",
       "      <td>2</td>\n",
       "      <td>4</td>\n",
       "      <td>6</td>\n",
       "    </tr>\n",
       "    <tr>\n",
       "      <th>5</th>\n",
       "      <td>0</td>\n",
       "      <td>2</td>\n",
       "      <td>2</td>\n",
       "    </tr>\n",
       "    <tr>\n",
       "      <th>All</th>\n",
       "      <td>19</td>\n",
       "      <td>7</td>\n",
       "      <td>26</td>\n",
       "    </tr>\n",
       "  </tbody>\n",
       "</table>\n",
       "</div>"
      ],
      "text/plain": [
       "foreign   0  1  All\n",
       "rep78              \n",
       "2         3  0    3\n",
       "3        14  1   15\n",
       "4         2  4    6\n",
       "5         0  2    2\n",
       "All      19  7   26"
      ]
     },
     "execution_count": 147,
     "metadata": {},
     "output_type": "execute_result"
    }
   ],
   "source": [
    "pd.crosstab(auto['rep78'], auto['foreign'], margins=True, aggfunc=min)"
   ]
  },
  {
   "cell_type": "code",
   "execution_count": 151,
   "metadata": {
    "collapsed": true
   },
   "outputs": [],
   "source": [
    "crosstab = pd.crosstab(auto['rep78'], auto['foreign'])"
   ]
  },
  {
   "cell_type": "code",
   "execution_count": 153,
   "metadata": {
    "collapsed": false
   },
   "outputs": [
    {
     "data": {
      "text/html": [
       "<div>\n",
       "<table border=\"1\" class=\"dataframe\">\n",
       "  <thead>\n",
       "    <tr style=\"text-align: right;\">\n",
       "      <th>foreign</th>\n",
       "      <th>0</th>\n",
       "      <th>1</th>\n",
       "    </tr>\n",
       "    <tr>\n",
       "      <th>rep78</th>\n",
       "      <th></th>\n",
       "      <th></th>\n",
       "    </tr>\n",
       "  </thead>\n",
       "  <tbody>\n",
       "    <tr>\n",
       "      <th>2</th>\n",
       "      <td>1.000000</td>\n",
       "      <td>0.000000</td>\n",
       "    </tr>\n",
       "    <tr>\n",
       "      <th>3</th>\n",
       "      <td>0.933333</td>\n",
       "      <td>0.066667</td>\n",
       "    </tr>\n",
       "    <tr>\n",
       "      <th>4</th>\n",
       "      <td>0.333333</td>\n",
       "      <td>0.666667</td>\n",
       "    </tr>\n",
       "    <tr>\n",
       "      <th>5</th>\n",
       "      <td>0.000000</td>\n",
       "      <td>1.000000</td>\n",
       "    </tr>\n",
       "  </tbody>\n",
       "</table>\n",
       "</div>"
      ],
      "text/plain": [
       "foreign         0         1\n",
       "rep78                      \n",
       "2        1.000000  0.000000\n",
       "3        0.933333  0.066667\n",
       "4        0.333333  0.666667\n",
       "5        0.000000  1.000000"
      ]
     },
     "execution_count": 153,
     "metadata": {},
     "output_type": "execute_result"
    }
   ],
   "source": [
    "crosstab.div(crosstab.sum(axis=1), axis=0)"
   ]
  },
  {
   "cell_type": "code",
   "execution_count": null,
   "metadata": {
    "collapsed": true
   },
   "outputs": [],
   "source": []
  },
  {
   "cell_type": "code",
   "execution_count": null,
   "metadata": {
    "collapsed": true
   },
   "outputs": [],
   "source": []
  },
  {
   "cell_type": "code",
   "execution_count": 180,
   "metadata": {
    "collapsed": false
   },
   "outputs": [
    {
     "data": {
      "text/html": [
       "<link href='http://fonts.googleapis.com/css?family=Open+Sans:400italic,400,700' rel='stylesheet' type='text/css'>\n",
       "<style>\n",
       ".rendered_html h1, h2 {\n",
       "\tcolor: #004A72;\n",
       "}\n",
       "\n",
       ".rendered_html h3 {\n",
       "\tcolor: #007FC3;\n",
       "}\n",
       ".rendered_html h4 {\n",
       "\tcolor: #007F3B;\n",
       "}\n",
       ".rendered_html h3, h4 {\n",
       "\tfont-size: 128%;\n",
       "}\n",
       ".pynote {\n",
       "\tbackground-color: #d8facf; \n",
       "\tborder-left: 5px solid #06FC78;\n",
       "\tpadding: 0.5em;\n",
       " }\n",
       " div.cell{\n",
       "    width: 800px;\n",
       "    margin-left:16% !important;\n",
       "    margin-right:auto;\n",
       "    }\n",
       " div.text_cell_render{\n",
       "    font-family: \"Open Sans\", \"Helvetica Neue\", Arial, Helvetica, Geneva, sans-serif;\n",
       "    width:700px;\n",
       "    margin-left:auto;\n",
       "    margin-right:auto;\n",
       "    }\n",
       " </style>"
      ],
      "text/plain": [
       "<IPython.core.display.HTML object>"
      ]
     },
     "execution_count": 180,
     "metadata": {},
     "output_type": "execute_result"
    }
   ],
   "source": [
    "# This cell imports the styling for this notebook. You can safely ignore it.\n",
    "\n",
    "from IPython.display import HTML\n",
    "\n",
    "def css_styling():\n",
    "    styles = open(\"../../_styles/custom.css\", \"r\").read()\n",
    "    return HTML(styles)\n",
    "css_styling()"
   ]
  },
  {
   "cell_type": "code",
   "execution_count": null,
   "metadata": {
    "collapsed": true
   },
   "outputs": [],
   "source": []
  }
 ],
 "metadata": {
  "kernelspec": {
   "display_name": "Python 2",
   "language": "python",
   "name": "python2"
  },
  "language_info": {
   "codemirror_mode": {
    "name": "ipython",
    "version": 2
   },
   "file_extension": ".py",
   "mimetype": "text/x-python",
   "name": "python",
   "nbconvert_exporter": "python",
   "pygments_lexer": "ipython2",
   "version": "2.7.10"
  }
 },
 "nbformat": 4,
 "nbformat_minor": 0
}
