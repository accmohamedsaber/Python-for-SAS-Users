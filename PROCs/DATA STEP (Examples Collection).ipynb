{
 "cells": [
  {
   "cell_type": "markdown",
   "metadata": {},
   "source": [
    "#DATA Step - Examples Collection\n",
    "There aren't many quality, comprehensive resources on all of the features of the data step with good examples. This notebook will contain a collection of examples related to the data step and their translations in Python. The list is sorted roughly in order of complexity.\n",
    "\n",
    "Examples:\n",
    "\n",
    "- [Reading in a SAS Dataset (.sas7bdat)](#Reading-in-a-SAS-Dataset)\n",
    "- **From [Reading Raw Data with the INPUT Statement](http://support.sas.com/documentation/cdl/en/lrcon/68089/HTML/default/viewer.htm#n1w749t788cgi2n1txpuccsuqtro.htm)**\n",
    "    - [List Input](#List-Input)\n",
    "    - [Column Input](#Column-Input-/-Fixed-Width-Format) (Fixed Width Format)\n",
    "    - [Formatted Input](#Formatted-Input)"
   ]
  },
  {
   "cell_type": "markdown",
   "metadata": {},
   "source": [
    "##Reading in a SAS Dataset\n",
    "\n",
    "Reading in a SAS Dataset format requires the `sas7bdat` [package](https://pypi.python.org/pypi/sas7bdat). You can install the package from the terminal/command prompt by typing:\n",
    "\n",
    "    pip install sas7bdat\n",
    "    \n",
    "Alternatively, you can do it straight from an IPython environment by prepending an `!`, so a cell containing `!pip install sas7bdat` will run that as a terminal command.\n",
    "\n",
    "We'll use this package to import the [DIJA](http://support.sas.com/documentation/cdl/en/proc/67916/HTML/default/viewer.htm#p16xfzs6h77uu2n1idsb76t4wzap.htm) dataset."
   ]
  },
  {
   "cell_type": "code",
   "execution_count": 20,
   "metadata": {
    "collapsed": false
   },
   "outputs": [],
   "source": [
    "from sas7bdat import SAS7BDAT\n",
    "import pandas as pd"
   ]
  },
  {
   "cell_type": "markdown",
   "metadata": {},
   "source": [
    "We'll open a stream to the file by pointing it to the dataset location, then convert it to a `pandas` *DataFrame*."
   ]
  },
  {
   "cell_type": "code",
   "execution_count": 11,
   "metadata": {
    "collapsed": false
   },
   "outputs": [],
   "source": [
    "with SAS7BDAT('../data/djia.sas7bdat') as dija_sas:\n",
    "    dija = dija_sas.to_data_frame()"
   ]
  },
  {
   "cell_type": "markdown",
   "metadata": {},
   "source": [
    "The `with` statement can be confusing to beginners, but it's used for file streams in python. Essentially, `SAS7BDAT` makes a connection to the file, and `with` makes sure that the connection to the file is closed once we do something with it: in this case convert it to a `pandas` *DataFrame* and store it as `dija`.\n",
    "\n",
    "We'll verify the contents of the *DataFrame* below. You'll notice that date formats from SAS are automatically converted to `datetime.date` objects in python."
   ]
  },
  {
   "cell_type": "code",
   "execution_count": 12,
   "metadata": {
    "collapsed": false
   },
   "outputs": [
    {
     "data": {
      "text/html": [
       "<div>\n",
       "<table border=\"1\" class=\"dataframe\">\n",
       "  <thead>\n",
       "    <tr style=\"text-align: right;\">\n",
       "      <th></th>\n",
       "      <th>High</th>\n",
       "      <th>HighDate</th>\n",
       "      <th>Low</th>\n",
       "      <th>LowDate</th>\n",
       "      <th>Year</th>\n",
       "    </tr>\n",
       "  </thead>\n",
       "  <tbody>\n",
       "    <tr>\n",
       "      <th>0</th>\n",
       "      <td>985.21</td>\n",
       "      <td>1968-12-03</td>\n",
       "      <td>825.13</td>\n",
       "      <td>1968-03-21</td>\n",
       "      <td>1968</td>\n",
       "    </tr>\n",
       "    <tr>\n",
       "      <th>1</th>\n",
       "      <td>968.85</td>\n",
       "      <td>1969-05-14</td>\n",
       "      <td>769.93</td>\n",
       "      <td>1969-12-17</td>\n",
       "      <td>1969</td>\n",
       "    </tr>\n",
       "    <tr>\n",
       "      <th>2</th>\n",
       "      <td>842.00</td>\n",
       "      <td>1970-12-29</td>\n",
       "      <td>631.16</td>\n",
       "      <td>1970-05-06</td>\n",
       "      <td>1970</td>\n",
       "    </tr>\n",
       "    <tr>\n",
       "      <th>3</th>\n",
       "      <td>950.82</td>\n",
       "      <td>1971-04-28</td>\n",
       "      <td>797.97</td>\n",
       "      <td>1971-11-23</td>\n",
       "      <td>1971</td>\n",
       "    </tr>\n",
       "    <tr>\n",
       "      <th>4</th>\n",
       "      <td>1036.27</td>\n",
       "      <td>1972-12-11</td>\n",
       "      <td>889.15</td>\n",
       "      <td>1972-01-26</td>\n",
       "      <td>1972</td>\n",
       "    </tr>\n",
       "  </tbody>\n",
       "</table>\n",
       "</div>"
      ],
      "text/plain": [
       "      High    HighDate     Low     LowDate  Year\n",
       "0   985.21  1968-12-03  825.13  1968-03-21  1968\n",
       "1   968.85  1969-05-14  769.93  1969-12-17  1969\n",
       "2   842.00  1970-12-29  631.16  1970-05-06  1970\n",
       "3   950.82  1971-04-28  797.97  1971-11-23  1971\n",
       "4  1036.27  1972-12-11  889.15  1972-01-26  1972"
      ]
     },
     "execution_count": 12,
     "metadata": {},
     "output_type": "execute_result"
    }
   ],
   "source": [
    "dija.head()"
   ]
  },
  {
   "cell_type": "markdown",
   "metadata": {
    "collapsed": true
   },
   "source": [
    "<div class=\"pynote\">\n",
    "In general, I would suggest exporting SAS datasets into an intermediate format like a `.csv` file to avoid any potential errors in the data import.\n",
    "</div>"
   ]
  },
  {
   "cell_type": "markdown",
   "metadata": {},
   "source": [
    "##List Input\n",
    "List input is any data that's separated by a space delimiter. SAS uses the following [code example](http://support.sas.com/documentation/cdl/en/lrcon/62955/HTML/default/viewer.htm#a003209907.htm):\n",
    "\n",
    "\n",
    "###SAS Code\n",
    "    data scores;\n",
    "        length name $ 12;\n",
    "        input name $ score1 score2;\n",
    "        datalines;\n",
    "    Riley 1132 1187\n",
    "    Henderson 1015 1102\n",
    "    ;\n",
    "    \n",
    "####Python Code\n",
    "A common way of importing small data within SAS is the `datalines` [statement](https://support.sas.com/documentation/cdl/en/lrdict/64316/HTML/default/viewer.htm#a000188182.htm) which enters data directly into a program. In Python equivalent functionality is possible by creating an object of the `StringIO` [class](https://docs.python.org/2/library/stringio.html) with the data. This object stores a string in memory for us to read in using `read_table()` with  `pandas`.\n",
    "\n",
    "We will store this string in a variable named `datalines`."
   ]
  },
  {
   "cell_type": "code",
   "execution_count": 14,
   "metadata": {
    "collapsed": true
   },
   "outputs": [],
   "source": [
    "import StringIO"
   ]
  },
  {
   "cell_type": "code",
   "execution_count": 16,
   "metadata": {
    "collapsed": false
   },
   "outputs": [],
   "source": [
    "datalines = StringIO.StringIO('''\n",
    "Riley 1132 1187\n",
    "Henderson 1015 1102\n",
    "''')"
   ]
  },
  {
   "cell_type": "markdown",
   "metadata": {},
   "source": [
    "<div class=\"pynote\">\n",
    "<b>Python Note</b>: Multiline strings start with triple quotes <code>'''</code>.\n",
    "</div>"
   ]
  },
  {
   "cell_type": "code",
   "execution_count": 22,
   "metadata": {
    "collapsed": false
   },
   "outputs": [],
   "source": [
    "scores = pd.read_table(datalines,   \n",
    "                       delim_whitespace=True,\n",
    "                       names=['name', 'score1', 'score2'])"
   ]
  },
  {
   "cell_type": "code",
   "execution_count": 118,
   "metadata": {
    "collapsed": false
   },
   "outputs": [
    {
     "name": "stdout",
     "output_type": "stream",
     "text": [
      "        name  score1  score2\n",
      "0      Riley    1132     987\n",
      "1  Henderson    1015    1102\n"
     ]
    }
   ],
   "source": [
    "print scores"
   ]
  },
  {
   "cell_type": "markdown",
   "metadata": {},
   "source": [
    "`pandas` will do it's best to infer object types. We can check basic *DataFrame* information and column types with the `.info()` method."
   ]
  },
  {
   "cell_type": "code",
   "execution_count": 119,
   "metadata": {
    "collapsed": false
   },
   "outputs": [
    {
     "name": "stdout",
     "output_type": "stream",
     "text": [
      "<class 'pandas.core.frame.DataFrame'>\n",
      "Int64Index: 2 entries, 0 to 1\n",
      "Data columns (total 3 columns):\n",
      "name      2 non-null object\n",
      "score1    2 non-null int64\n",
      "score2    2 non-null int64\n",
      "dtypes: int64(2), object(1)\n",
      "memory usage: 64.0+ bytes\n"
     ]
    }
   ],
   "source": [
    "scores.info()"
   ]
  },
  {
   "cell_type": "markdown",
   "metadata": {},
   "source": [
    "<div class=\"resources\">\n",
    "Read more about column `dtypes` <a href=\"http://pandas.pydata.org/pandas-docs/stable/basics.html#dtypes\">here</a>.\n",
    "</div>"
   ]
  },
  {
   "cell_type": "markdown",
   "metadata": {},
   "source": [
    "##Column Input / Fixed Width Format\n",
    "Column input is the reading in of files that are whitespace delimited into columns that align to specific widths.\n",
    "\n",
    "###SAS Code\n",
    "    data scores;\n",
    "        infile datalines truncover;\n",
    "        input name $ 1-12 score2 17-20 score1 27-30;\n",
    "    datalines;\n",
    "    Riley           1132       987\n",
    "    Henderson       1015      1102\n",
    "    ;\n",
    "\n",
    "####Python Code\n",
    "We'll again use a `StringIO` object for similar functionality to `datalines`.\n"
   ]
  },
  {
   "cell_type": "code",
   "execution_count": 100,
   "metadata": {
    "collapsed": true
   },
   "outputs": [],
   "source": [
    "datalines = StringIO.StringIO('''\n",
    "Riley           1132       987\n",
    "Henderson       1015      1102\n",
    "''')"
   ]
  },
  {
   "cell_type": "markdown",
   "metadata": {},
   "source": [
    "`pandas` uses the `read_fwf()` [function](http://pandas.pydata.org/pandas-docs/stable/generated/pandas.read_fwf.html) to read fixed-width format (fwf) files. Instead of having both the variable names and column widths in an `INPUT` statement like SAS, this function splits them into the `colspecs=` and `names=` functions. This is consistent with other data IO functions in `pandas`.\n",
    "\n",
    "A few things to note:\n",
    "\n",
    "- The `colspecs=` argument is a list of tuples describing the column widths\n",
    "- The intervals are half open, ex: (0, 12) is starting at 0 to, but not including, position 12\n",
    "- Python is zero indexed, so the first column interval starts at 0 and we should shift each interval down one value.\n",
    "- We need to explicitly pass `header=0` since we have an empty first row\n",
    "    - This is not intuitive... I found out through trial and error.\n",
    "- There's a cleaner solution presented below this one."
   ]
  },
  {
   "cell_type": "code",
   "execution_count": 101,
   "metadata": {
    "collapsed": false
   },
   "outputs": [],
   "source": [
    "scores = pd.read_fwf(datalines,    \n",
    "                     colspecs=[(0,12), (16,20), (27,30)],\n",
    "                     names=['name', 'score1', 'score2'],\n",
    "                    header=0)"
   ]
  },
  {
   "cell_type": "code",
   "execution_count": 102,
   "metadata": {
    "collapsed": false
   },
   "outputs": [
    {
     "name": "stdout",
     "output_type": "stream",
     "text": [
      "        name  score1  score2\n",
      "0      Riley    1132     987\n",
      "1  Henderson    1015     102\n"
     ]
    }
   ],
   "source": [
    "print scores"
   ]
  },
  {
   "cell_type": "markdown",
   "metadata": {},
   "source": [
    "One of the nice things about the `read_fwf()` function is that the default value for the `colspecs=` argument is `'infer'`, which will infer the column widths and positions based on whitespace. Knowing this, we can remove the our input statement to take only the `data=` and `names=` arguments."
   ]
  },
  {
   "cell_type": "code",
   "execution_count": 106,
   "metadata": {
    "collapsed": true
   },
   "outputs": [],
   "source": [
    "datalines = StringIO.StringIO('''\n",
    "Riley           1132       987\n",
    "Henderson       1015      1102\n",
    "''')"
   ]
  },
  {
   "cell_type": "code",
   "execution_count": 107,
   "metadata": {
    "collapsed": true
   },
   "outputs": [],
   "source": [
    "scores_infer = pd.read_fwf(datalines, \n",
    "                           names=['name', 'score1', 'score2'],\n",
    "                           header=0)"
   ]
  },
  {
   "cell_type": "code",
   "execution_count": 108,
   "metadata": {
    "collapsed": false
   },
   "outputs": [
    {
     "name": "stdout",
     "output_type": "stream",
     "text": [
      "        name  score1  score2\n",
      "0      Riley    1132     987\n",
      "1  Henderson    1015    1102\n"
     ]
    }
   ],
   "source": [
    "print scores_infer"
   ]
  },
  {
   "cell_type": "markdown",
   "metadata": {},
   "source": [
    "##Formatted Input\n",
    "This input refers to data that's specifically formatted in a way that makes direct read in challenging, like thousands separators for example.\n",
    "\n",
    "###SAS Code\n",
    "    data scores;\n",
    "       input name $12. +4 score1 comma5. +6 score2 comma5.;\n",
    "       datalines;\n",
    "    Riley           1,132      1,187\n",
    "    Henderson       1,015      1,102\n",
    "    ;\n",
    "    \n",
    "###Python Code\n",
    "Structurally, the data is similar to the fixed-width format data, with the addition of the thousands separator.\n",
    "\n",
    "Thankfully someone had the idea just to check if strings containing numbers with commas should be parsed as numbers. This means no messing around with the pointer controls like you're playing an idiot data input game. Instead, we'll just add the `thousands=','` argument to the `read_fwf()` function."
   ]
  },
  {
   "cell_type": "code",
   "execution_count": 113,
   "metadata": {
    "collapsed": true
   },
   "outputs": [],
   "source": [
    "datalines = StringIO.StringIO('''\n",
    "Riley           1,132      1,187\n",
    "Henderson       1,015      1,102\n",
    "''')"
   ]
  },
  {
   "cell_type": "code",
   "execution_count": 114,
   "metadata": {
    "collapsed": true
   },
   "outputs": [],
   "source": [
    "scores_formatted = pd.read_fwf(datalines,    \n",
    "                               names=['name', 'score1', 'score2'],\n",
    "                               header=0,\n",
    "                              thousands=',')"
   ]
  },
  {
   "cell_type": "code",
   "execution_count": 117,
   "metadata": {
    "collapsed": false
   },
   "outputs": [
    {
     "name": "stdout",
     "output_type": "stream",
     "text": [
      "        name  score1  score2\n",
      "0      Riley    1132    1187\n",
      "1  Henderson    1015    1102\n"
     ]
    }
   ],
   "source": [
    "print scores_formatted"
   ]
  },
  {
   "cell_type": "code",
   "execution_count": 1,
   "metadata": {
    "collapsed": false
   },
   "outputs": [
    {
     "data": {
      "text/html": [
       "<link href='http://fonts.googleapis.com/css?family=Open+Sans:400italic,400,700' rel='stylesheet' type='text/css'>\n",
       "<style>\n",
       ".rendered_html h1, h2 {\n",
       "\tcolor: #004A72;\n",
       "}\n",
       "\n",
       ".rendered_html h3 {\n",
       "\tcolor: #007FC3;\n",
       "\tfont-size: 128%;\n",
       "}\n",
       ".rendered_html h4 {\n",
       "\tcolor: #007F3B;\n",
       "\tfont-size: 128%;\n",
       "}\n",
       "\n",
       ".rendered_html code {\n",
       "    font-size: 105%;\n",
       "}\n",
       "\n",
       ".pynote {\n",
       "\tbackground-color: #f4fff3; \n",
       "\tborder-left: 5px solid #6cf955;\n",
       "\tpadding: 0.5em;\n",
       "}\n",
       "\n",
       ".construction {\n",
       "\tbackground-color: #fff4f3; \n",
       "\tborder-left: 5px solid #ff6058;\n",
       "\tpadding: 0.5em;\n",
       "}\n",
       "\n",
       ".resources {\n",
       "\tbackground-color: #f3f7fe; \n",
       "\tborder-left: 5px solid #6398f3;\n",
       "\tpadding: 0.5em;\n",
       "}\n",
       "\n",
       ".sas code, .sasoutput code {\n",
       "\tbackground-color: transparent;\n",
       "}\n",
       "\n",
       ".sas {\n",
       "\tbackground-color: #fffcf3; \n",
       "\tborder-left: 5px solid #ffd758;\n",
       "\tpadding: 0.5em;\n",
       "}\n",
       "\n",
       ".sasoutput {\n",
       "\tbackground-color: #ffeaad; \n",
       "\tborder-left: 5px solid #ffd758;\n",
       "\tpadding: 0.5em;\n",
       "}\n",
       "\n",
       "div.cell{\n",
       "\twidth: 800px;\n",
       "\tmargin-left:16% !important;\n",
       "\tmargin-right:auto;\n",
       "}\n",
       "div.text_cell_render{\n",
       "    font-family: \"Open Sans\", \"Helvetica Neue\", Arial, Helvetica, Geneva, sans-serif;\n",
       "    width:700px;\n",
       "    margin-left:auto;\n",
       "    margin-right:auto;\n",
       "}\t\n",
       "</style>"
      ],
      "text/plain": [
       "<IPython.core.display.HTML object>"
      ]
     },
     "execution_count": 1,
     "metadata": {},
     "output_type": "execute_result"
    }
   ],
   "source": [
    "# This cell imports the styling for this notebook. You can safely ignore it.\n",
    "\n",
    "from IPython.display import HTML\n",
    "\n",
    "def css_styling():\n",
    "    styles = open(\"../_styles/custom.css\", \"r\").read()\n",
    "    return HTML(styles)\n",
    "css_styling()"
   ]
  },
  {
   "cell_type": "code",
   "execution_count": null,
   "metadata": {
    "collapsed": true
   },
   "outputs": [],
   "source": []
  }
 ],
 "metadata": {
  "kernelspec": {
   "display_name": "Python 2",
   "language": "python",
   "name": "python2"
  },
  "language_info": {
   "codemirror_mode": {
    "name": "ipython",
    "version": 2
   },
   "file_extension": ".py",
   "mimetype": "text/x-python",
   "name": "python",
   "nbconvert_exporter": "python",
   "pygments_lexer": "ipython2",
   "version": "2.7.10"
  }
 },
 "nbformat": 4,
 "nbformat_minor": 0
}
