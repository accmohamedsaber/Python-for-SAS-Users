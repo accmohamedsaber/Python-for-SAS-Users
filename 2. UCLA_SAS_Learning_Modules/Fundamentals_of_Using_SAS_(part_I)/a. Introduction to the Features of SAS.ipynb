{
 "cells": [
  {
   "cell_type": "markdown",
   "metadata": {},
   "source": [
    "# 1. Introduction\n",
    "\n",
    "This notebook will correspond to the [Introduction to the features of SAS](http://www.ats.ucla.edu/stat/sas/modules/intsas.htm) page. That tutorial covers basic features of SAS and applies them to the cars dataset. The dataset contains variables on **make, price, miles per gallon, repair rating (in 1978), weight in pounds, length in inches,** and whether the car was **foreign** or **domestic**.\n",
    "\n",
    "**Note**: If you haven't read the [Intro to Python & FAQ Notebook](../../general/Intro to Python & FAQ.ipynb), please read at this point. It covers important topics like importing packages and declaring objects.\n",
    "\n",
    "---\n",
    "## Importing the data\n",
    "A common way of importing small data within SAS is the `datalines` [statement](https://support.sas.com/documentation/cdl/en/lrdict/64316/HTML/default/viewer.htm#a000188182.htm) which enters data directly into a program. In Python  equivalent functionality is possible by creating an object of the `StringIO` [class](https://docs.python.org/2/library/stringio.html) with the data. This object stores a string in memory for us to read in using `read_table()` with  `pandas`.\n",
    "\n",
    "We will store this string in a variable named `datalines`."
   ]
  },
  {
   "cell_type": "markdown",
   "metadata": {},
   "source": [
    "### SAS Code\n",
    "    DATA auto ;\n",
    "        INPUT make $ price mpg rep78 weight length foreign ;\n",
    "        datalines;\n",
    "        [data]\n",
    "        run;\n",
    "\n",
    "\n",
    "#### Python Code"
   ]
  },
  {
   "cell_type": "code",
   "execution_count": 1,
   "metadata": {
    "collapsed": false
   },
   "outputs": [],
   "source": [
    "from io import StringIO\n",
    "\n",
    "import pandas as pd"
   ]
  },
  {
   "cell_type": "code",
   "execution_count": 2,
   "metadata": {
    "collapsed": false
   },
   "outputs": [],
   "source": [
    "datalines = StringIO('''\n",
    "AMC     4099 22  3     2930   186    0\n",
    "AMC     4749 17  3     3350   173    0\n",
    "AMC     3799 22  3     2640   168    0\n",
    "Audi    9690 17  5     2830   189    1\n",
    "Audi    6295 23  3     2070   174    1\n",
    "BMW     9735 25  4     2650   177    1\n",
    "Buick   4816 20  3     3250   196    0\n",
    "Buick   7827 15  4     4080   222    0\n",
    "Buick   5788 18  3     3670   218    0\n",
    "Buick   4453 26  3     2230   170    0\n",
    "Buick   5189 20  3     3280   200    0\n",
    "Buick  10372 16  3     3880   207    0\n",
    "Buick   4082 19  3     3400   200    0\n",
    "Cad.   11385 14  3     4330   221    0\n",
    "Cad.   14500 14  2     3900   204    0\n",
    "Cad.   15906 21  3     4290   204    0\n",
    "Chev.   3299 29  3     2110   163    0\n",
    "Chev.   5705 16  4     3690   212    0\n",
    "Chev.   4504 22  3     3180   193    0\n",
    "Chev.   5104 22  2     3220   200    0\n",
    "Chev.   3667 24  2     2750   179    0\n",
    "Chev.   3955 19  3     3430   197    0\n",
    "Datsun  6229 23  4     2370   170    1\n",
    "Datsun  4589 35  5     2020   165    1\n",
    "Datsun  5079 24  4     2280   170    1\n",
    "Datsun  8129 21  4     2750   184    1\n",
    "''')"
   ]
  },
  {
   "cell_type": "markdown",
   "metadata": {},
   "source": [
    "<div class=\"pynote\">\n",
    "<b>Python Note</b>: Multiline strings start with triple quotes <code>'''</code>.\n",
    "</div>"
   ]
  },
  {
   "cell_type": "code",
   "execution_count": 3,
   "metadata": {
    "collapsed": false
   },
   "outputs": [],
   "source": [
    "auto = pd.read_table(datalines,\n",
    "                     delim_whitespace=True,\n",
    "                     names=['make', 'price', 'mpg', 'rep78',\n",
    "                            'weight', 'length', 'foreign'])"
   ]
  },
  {
   "cell_type": "code",
   "execution_count": 4,
   "metadata": {
    "collapsed": false
   },
   "outputs": [],
   "source": [
    "datalines.close()"
   ]
  },
  {
   "cell_type": "markdown",
   "metadata": {},
   "source": [
    "<div class=\"pynote\">\n",
    "<b>Python Note</b>:\n",
    "<code>pd.read_table</code> calls the <code>read_table()</code> function from the <code>pandas</code> package. The first argument is the data we want to read, in this instance our <code>datalines</code> variable. Often you'll replace this first argument with a file location pointing to the file you want to read into a <em>DataFrame</em>. The <code>delim_whitespace=</code> argument informs the function that the file should parse whitespace as a delimiter. The <code>names</code> argument is similar to SAS <code>INPUT</code> statement, which provides names for all the variables. One difference is that the variables' type is inferred rather than explicitly stated by using the <code>$</code> indicator in SAS.\n",
    "<br><br>\n",
    "Additionally, you may also notice python's implied line continuation. When a line of code gets uncomfortably long (the hard rule is 79 characters), you can split any arguments within parenthesis at commas. Be sure that your indentation makes sense as well.\n",
    "<br><br>\n",
    "<code>datalines.close()</code> frees up the memory buffer we created to store our string object. We won't need it anymore since the data is now stored in <code>auto</code>.\n",
    "</div>"
   ]
  },
  {
   "cell_type": "markdown",
   "metadata": {},
   "source": [
    "## Viewing a sample of the data\n",
    "`PROC PRINT` prints a sample of the data to ODS. In Python, .head() is a function that performs equivalently on a `DataFrame` object. Instead of the `obs=10` argument it's `n=10` or simply `10` inside the parenthesis.\n",
    "\n",
    "### SAS Code\n",
    "    PROC PRINT DATA=auto(obs=10);\n",
    "    RUN;    \n",
    "#### Python Code"
   ]
  },
  {
   "cell_type": "code",
   "execution_count": 5,
   "metadata": {
    "collapsed": false
   },
   "outputs": [
    {
     "data": {
      "text/html": [
       "<div>\n",
       "<table border=\"1\" class=\"dataframe\">\n",
       "  <thead>\n",
       "    <tr style=\"text-align: right;\">\n",
       "      <th></th>\n",
       "      <th>make</th>\n",
       "      <th>price</th>\n",
       "      <th>mpg</th>\n",
       "      <th>rep78</th>\n",
       "      <th>weight</th>\n",
       "      <th>length</th>\n",
       "      <th>foreign</th>\n",
       "    </tr>\n",
       "  </thead>\n",
       "  <tbody>\n",
       "    <tr>\n",
       "      <th>0</th>\n",
       "      <td>AMC</td>\n",
       "      <td>4099</td>\n",
       "      <td>22</td>\n",
       "      <td>3</td>\n",
       "      <td>2930</td>\n",
       "      <td>186</td>\n",
       "      <td>0</td>\n",
       "    </tr>\n",
       "    <tr>\n",
       "      <th>1</th>\n",
       "      <td>AMC</td>\n",
       "      <td>4749</td>\n",
       "      <td>17</td>\n",
       "      <td>3</td>\n",
       "      <td>3350</td>\n",
       "      <td>173</td>\n",
       "      <td>0</td>\n",
       "    </tr>\n",
       "    <tr>\n",
       "      <th>2</th>\n",
       "      <td>AMC</td>\n",
       "      <td>3799</td>\n",
       "      <td>22</td>\n",
       "      <td>3</td>\n",
       "      <td>2640</td>\n",
       "      <td>168</td>\n",
       "      <td>0</td>\n",
       "    </tr>\n",
       "    <tr>\n",
       "      <th>3</th>\n",
       "      <td>Audi</td>\n",
       "      <td>9690</td>\n",
       "      <td>17</td>\n",
       "      <td>5</td>\n",
       "      <td>2830</td>\n",
       "      <td>189</td>\n",
       "      <td>1</td>\n",
       "    </tr>\n",
       "    <tr>\n",
       "      <th>4</th>\n",
       "      <td>Audi</td>\n",
       "      <td>6295</td>\n",
       "      <td>23</td>\n",
       "      <td>3</td>\n",
       "      <td>2070</td>\n",
       "      <td>174</td>\n",
       "      <td>1</td>\n",
       "    </tr>\n",
       "    <tr>\n",
       "      <th>5</th>\n",
       "      <td>BMW</td>\n",
       "      <td>9735</td>\n",
       "      <td>25</td>\n",
       "      <td>4</td>\n",
       "      <td>2650</td>\n",
       "      <td>177</td>\n",
       "      <td>1</td>\n",
       "    </tr>\n",
       "    <tr>\n",
       "      <th>6</th>\n",
       "      <td>Buick</td>\n",
       "      <td>4816</td>\n",
       "      <td>20</td>\n",
       "      <td>3</td>\n",
       "      <td>3250</td>\n",
       "      <td>196</td>\n",
       "      <td>0</td>\n",
       "    </tr>\n",
       "    <tr>\n",
       "      <th>7</th>\n",
       "      <td>Buick</td>\n",
       "      <td>7827</td>\n",
       "      <td>15</td>\n",
       "      <td>4</td>\n",
       "      <td>4080</td>\n",
       "      <td>222</td>\n",
       "      <td>0</td>\n",
       "    </tr>\n",
       "    <tr>\n",
       "      <th>8</th>\n",
       "      <td>Buick</td>\n",
       "      <td>5788</td>\n",
       "      <td>18</td>\n",
       "      <td>3</td>\n",
       "      <td>3670</td>\n",
       "      <td>218</td>\n",
       "      <td>0</td>\n",
       "    </tr>\n",
       "    <tr>\n",
       "      <th>9</th>\n",
       "      <td>Buick</td>\n",
       "      <td>4453</td>\n",
       "      <td>26</td>\n",
       "      <td>3</td>\n",
       "      <td>2230</td>\n",
       "      <td>170</td>\n",
       "      <td>0</td>\n",
       "    </tr>\n",
       "  </tbody>\n",
       "</table>\n",
       "</div>"
      ],
      "text/plain": [
       "    make  price  mpg  rep78  weight  length  foreign\n",
       "0    AMC   4099   22      3    2930     186        0\n",
       "1    AMC   4749   17      3    3350     173        0\n",
       "2    AMC   3799   22      3    2640     168        0\n",
       "3   Audi   9690   17      5    2830     189        1\n",
       "4   Audi   6295   23      3    2070     174        1\n",
       "5    BMW   9735   25      4    2650     177        1\n",
       "6  Buick   4816   20      3    3250     196        0\n",
       "7  Buick   7827   15      4    4080     222        0\n",
       "8  Buick   5788   18      3    3670     218        0\n",
       "9  Buick   4453   26      3    2230     170        0"
      ]
     },
     "execution_count": 5,
     "metadata": {},
     "output_type": "execute_result"
    }
   ],
   "source": [
    "auto.head(10)"
   ]
  },
  {
   "cell_type": "markdown",
   "metadata": {},
   "source": [
    "<div class=\"pynote\">\n",
    "<b>Python Note</b>: All objects are <a href=\"https://en.wikipedia.org/wiki/Zero-based_numbering\">zero indexed</a>.\n",
    "</div>"
   ]
  },
  {
   "cell_type": "markdown",
   "metadata": {},
   "source": [
    "## 2. Descriptive Statistics\n",
    "Similar to SAS's `PROC MEANS` is the  `.describe()` function called on a `DataFrame`. This will print out basic descriptive statistics on all continuous variables by default, and also contains some overlap with the distributional details of `PROC UNIVARIATE`.\n",
    "\n",
    "### SAS Code\n",
    "    PROC MEANS DATA=auto;\n",
    "    RUN; \n",
    "    \n",
    "#### Python Code"
   ]
  },
  {
   "cell_type": "code",
   "execution_count": 6,
   "metadata": {
    "collapsed": false
   },
   "outputs": [
    {
     "data": {
      "text/html": [
       "<div>\n",
       "<table border=\"1\" class=\"dataframe\">\n",
       "  <thead>\n",
       "    <tr style=\"text-align: right;\">\n",
       "      <th></th>\n",
       "      <th>price</th>\n",
       "      <th>mpg</th>\n",
       "      <th>rep78</th>\n",
       "      <th>weight</th>\n",
       "      <th>length</th>\n",
       "      <th>foreign</th>\n",
       "    </tr>\n",
       "  </thead>\n",
       "  <tbody>\n",
       "    <tr>\n",
       "      <th>count</th>\n",
       "      <td>26.000000</td>\n",
       "      <td>26.000000</td>\n",
       "      <td>26.000000</td>\n",
       "      <td>26.000000</td>\n",
       "      <td>26.000000</td>\n",
       "      <td>26.000000</td>\n",
       "    </tr>\n",
       "    <tr>\n",
       "      <th>mean</th>\n",
       "      <td>6651.730769</td>\n",
       "      <td>20.923077</td>\n",
       "      <td>3.269231</td>\n",
       "      <td>3099.230769</td>\n",
       "      <td>190.076923</td>\n",
       "      <td>0.269231</td>\n",
       "    </tr>\n",
       "    <tr>\n",
       "      <th>std</th>\n",
       "      <td>3371.119809</td>\n",
       "      <td>4.757504</td>\n",
       "      <td>0.777570</td>\n",
       "      <td>695.079409</td>\n",
       "      <td>18.170136</td>\n",
       "      <td>0.452344</td>\n",
       "    </tr>\n",
       "    <tr>\n",
       "      <th>min</th>\n",
       "      <td>3299.000000</td>\n",
       "      <td>14.000000</td>\n",
       "      <td>2.000000</td>\n",
       "      <td>2020.000000</td>\n",
       "      <td>163.000000</td>\n",
       "      <td>0.000000</td>\n",
       "    </tr>\n",
       "    <tr>\n",
       "      <th>25%</th>\n",
       "      <td>4465.750000</td>\n",
       "      <td>17.250000</td>\n",
       "      <td>3.000000</td>\n",
       "      <td>2642.500000</td>\n",
       "      <td>173.250000</td>\n",
       "      <td>0.000000</td>\n",
       "    </tr>\n",
       "    <tr>\n",
       "      <th>50%</th>\n",
       "      <td>5146.500000</td>\n",
       "      <td>21.000000</td>\n",
       "      <td>3.000000</td>\n",
       "      <td>3200.000000</td>\n",
       "      <td>191.000000</td>\n",
       "      <td>0.000000</td>\n",
       "    </tr>\n",
       "    <tr>\n",
       "      <th>75%</th>\n",
       "      <td>8053.500000</td>\n",
       "      <td>23.000000</td>\n",
       "      <td>4.000000</td>\n",
       "      <td>3610.000000</td>\n",
       "      <td>203.000000</td>\n",
       "      <td>0.750000</td>\n",
       "    </tr>\n",
       "    <tr>\n",
       "      <th>max</th>\n",
       "      <td>15906.000000</td>\n",
       "      <td>35.000000</td>\n",
       "      <td>5.000000</td>\n",
       "      <td>4330.000000</td>\n",
       "      <td>222.000000</td>\n",
       "      <td>1.000000</td>\n",
       "    </tr>\n",
       "  </tbody>\n",
       "</table>\n",
       "</div>"
      ],
      "text/plain": [
       "              price        mpg      rep78       weight      length    foreign\n",
       "count     26.000000  26.000000  26.000000    26.000000   26.000000  26.000000\n",
       "mean    6651.730769  20.923077   3.269231  3099.230769  190.076923   0.269231\n",
       "std     3371.119809   4.757504   0.777570   695.079409   18.170136   0.452344\n",
       "min     3299.000000  14.000000   2.000000  2020.000000  163.000000   0.000000\n",
       "25%     4465.750000  17.250000   3.000000  2642.500000  173.250000   0.000000\n",
       "50%     5146.500000  21.000000   3.000000  3200.000000  191.000000   0.000000\n",
       "75%     8053.500000  23.000000   4.000000  3610.000000  203.000000   0.750000\n",
       "max    15906.000000  35.000000   5.000000  4330.000000  222.000000   1.000000"
      ]
     },
     "execution_count": 6,
     "metadata": {},
     "output_type": "execute_result"
    }
   ],
   "source": [
    "auto.describe()"
   ]
  },
  {
   "cell_type": "markdown",
   "metadata": {},
   "source": [
    "You can get descriptive statistics separately for foreign and domestic cars (i.e. broken down by *foreign*) as shown below. For additional reference, see `pandas` [groupby](http://pandas.pydata.org/pandas-docs/stable/groupby.html) documentation."
   ]
  },
  {
   "cell_type": "code",
   "execution_count": 7,
   "metadata": {
    "collapsed": false
   },
   "outputs": [
    {
     "data": {
      "text/html": [
       "<div>\n",
       "<table border=\"1\" class=\"dataframe\">\n",
       "  <thead>\n",
       "    <tr style=\"text-align: right;\">\n",
       "      <th></th>\n",
       "      <th></th>\n",
       "      <th>length</th>\n",
       "      <th>mpg</th>\n",
       "      <th>price</th>\n",
       "      <th>rep78</th>\n",
       "      <th>weight</th>\n",
       "    </tr>\n",
       "    <tr>\n",
       "      <th>foreign</th>\n",
       "      <th></th>\n",
       "      <th></th>\n",
       "      <th></th>\n",
       "      <th></th>\n",
       "      <th></th>\n",
       "      <th></th>\n",
       "    </tr>\n",
       "  </thead>\n",
       "  <tbody>\n",
       "    <tr>\n",
       "      <th rowspan=\"8\" valign=\"top\">0</th>\n",
       "      <th>count</th>\n",
       "      <td>19.000000</td>\n",
       "      <td>19.000000</td>\n",
       "      <td>19.000000</td>\n",
       "      <td>19.000000</td>\n",
       "      <td>19.000000</td>\n",
       "    </tr>\n",
       "    <tr>\n",
       "      <th>mean</th>\n",
       "      <td>195.421053</td>\n",
       "      <td>19.789474</td>\n",
       "      <td>6484.157895</td>\n",
       "      <td>2.947368</td>\n",
       "      <td>3347.894737</td>\n",
       "    </tr>\n",
       "    <tr>\n",
       "      <th>std</th>\n",
       "      <td>17.963901</td>\n",
       "      <td>4.035660</td>\n",
       "      <td>3768.461479</td>\n",
       "      <td>0.524265</td>\n",
       "      <td>627.176911</td>\n",
       "    </tr>\n",
       "    <tr>\n",
       "      <th>min</th>\n",
       "      <td>163.000000</td>\n",
       "      <td>14.000000</td>\n",
       "      <td>3299.000000</td>\n",
       "      <td>2.000000</td>\n",
       "      <td>2110.000000</td>\n",
       "    </tr>\n",
       "    <tr>\n",
       "      <th>25%</th>\n",
       "      <td>182.500000</td>\n",
       "      <td>16.500000</td>\n",
       "      <td>4090.500000</td>\n",
       "      <td>3.000000</td>\n",
       "      <td>3055.000000</td>\n",
       "    </tr>\n",
       "    <tr>\n",
       "      <th>50%</th>\n",
       "      <td>200.000000</td>\n",
       "      <td>20.000000</td>\n",
       "      <td>4816.000000</td>\n",
       "      <td>3.000000</td>\n",
       "      <td>3350.000000</td>\n",
       "    </tr>\n",
       "    <tr>\n",
       "      <th>75%</th>\n",
       "      <td>205.500000</td>\n",
       "      <td>22.000000</td>\n",
       "      <td>6807.500000</td>\n",
       "      <td>3.000000</td>\n",
       "      <td>3785.000000</td>\n",
       "    </tr>\n",
       "    <tr>\n",
       "      <th>max</th>\n",
       "      <td>222.000000</td>\n",
       "      <td>29.000000</td>\n",
       "      <td>15906.000000</td>\n",
       "      <td>4.000000</td>\n",
       "      <td>4330.000000</td>\n",
       "    </tr>\n",
       "    <tr>\n",
       "      <th rowspan=\"8\" valign=\"top\">1</th>\n",
       "      <th>count</th>\n",
       "      <td>7.000000</td>\n",
       "      <td>7.000000</td>\n",
       "      <td>7.000000</td>\n",
       "      <td>7.000000</td>\n",
       "      <td>7.000000</td>\n",
       "    </tr>\n",
       "    <tr>\n",
       "      <th>mean</th>\n",
       "      <td>175.571429</td>\n",
       "      <td>24.000000</td>\n",
       "      <td>7106.571429</td>\n",
       "      <td>4.142857</td>\n",
       "      <td>2424.285714</td>\n",
       "    </tr>\n",
       "    <tr>\n",
       "      <th>std</th>\n",
       "      <td>8.462804</td>\n",
       "      <td>5.507571</td>\n",
       "      <td>2101.828240</td>\n",
       "      <td>0.690066</td>\n",
       "      <td>325.159302</td>\n",
       "    </tr>\n",
       "    <tr>\n",
       "      <th>min</th>\n",
       "      <td>165.000000</td>\n",
       "      <td>17.000000</td>\n",
       "      <td>4589.000000</td>\n",
       "      <td>3.000000</td>\n",
       "      <td>2020.000000</td>\n",
       "    </tr>\n",
       "    <tr>\n",
       "      <th>25%</th>\n",
       "      <td>170.000000</td>\n",
       "      <td>22.000000</td>\n",
       "      <td>5654.000000</td>\n",
       "      <td>4.000000</td>\n",
       "      <td>2175.000000</td>\n",
       "    </tr>\n",
       "    <tr>\n",
       "      <th>50%</th>\n",
       "      <td>174.000000</td>\n",
       "      <td>23.000000</td>\n",
       "      <td>6295.000000</td>\n",
       "      <td>4.000000</td>\n",
       "      <td>2370.000000</td>\n",
       "    </tr>\n",
       "    <tr>\n",
       "      <th>75%</th>\n",
       "      <td>180.500000</td>\n",
       "      <td>24.500000</td>\n",
       "      <td>8909.500000</td>\n",
       "      <td>4.500000</td>\n",
       "      <td>2700.000000</td>\n",
       "    </tr>\n",
       "    <tr>\n",
       "      <th>max</th>\n",
       "      <td>189.000000</td>\n",
       "      <td>35.000000</td>\n",
       "      <td>9735.000000</td>\n",
       "      <td>5.000000</td>\n",
       "      <td>2830.000000</td>\n",
       "    </tr>\n",
       "  </tbody>\n",
       "</table>\n",
       "</div>"
      ],
      "text/plain": [
       "                   length        mpg         price      rep78       weight\n",
       "foreign                                                                   \n",
       "0       count   19.000000  19.000000     19.000000  19.000000    19.000000\n",
       "        mean   195.421053  19.789474   6484.157895   2.947368  3347.894737\n",
       "        std     17.963901   4.035660   3768.461479   0.524265   627.176911\n",
       "        min    163.000000  14.000000   3299.000000   2.000000  2110.000000\n",
       "        25%    182.500000  16.500000   4090.500000   3.000000  3055.000000\n",
       "        50%    200.000000  20.000000   4816.000000   3.000000  3350.000000\n",
       "        75%    205.500000  22.000000   6807.500000   3.000000  3785.000000\n",
       "        max    222.000000  29.000000  15906.000000   4.000000  4330.000000\n",
       "1       count    7.000000   7.000000      7.000000   7.000000     7.000000\n",
       "        mean   175.571429  24.000000   7106.571429   4.142857  2424.285714\n",
       "        std      8.462804   5.507571   2101.828240   0.690066   325.159302\n",
       "        min    165.000000  17.000000   4589.000000   3.000000  2020.000000\n",
       "        25%    170.000000  22.000000   5654.000000   4.000000  2175.000000\n",
       "        50%    174.000000  23.000000   6295.000000   4.000000  2370.000000\n",
       "        75%    180.500000  24.500000   8909.500000   4.500000  2700.000000\n",
       "        max    189.000000  35.000000   9735.000000   5.000000  2830.000000"
      ]
     },
     "execution_count": 7,
     "metadata": {},
     "output_type": "execute_result"
    }
   ],
   "source": [
    "auto.groupby('foreign').describe()"
   ]
  },
  {
   "cell_type": "markdown",
   "metadata": {},
   "source": [
    "<div class=\"pynote\">\n",
    "<b>Python Note</b>: Above is the first example of method chaining, a powerful feature that allows you to chain functions together in a single line of code since each function returns an object.\n",
    "<br><br>\n",
    "Above we use the <code>.groupby()</code> method which returns a groupby object. We can then directly apply the <code>.describe()</code> method to that object.\n",
    "<br><br>\n",
    "Without this feature we'd have to break up the code each step of the way, which is far less convenient and readable.\n",
    "<br><br>\n",
    "You'll use method chaining quite frequently with <em>DataFrames</em> so it's good to become comfortable with it.\n",
    "</div>"
   ]
  },
  {
   "cell_type": "markdown",
   "metadata": {},
   "source": [
    "## Detailed Univariate Statistics\n",
    "The next point in the original tutorial covers `PROC UNIVARIATE` on the **price** variable. `PROC UNIVARIATE` has a significant amount of output. We'll try and replicate the main functions of that proc, but will leave other functions (like t-tests) out of it. We'll cover:\n",
    "- Skew / Kurtosis\n",
    "- Extreme observations (top / bottom 5)\n",
    "- Additional quintiles beyond 0/25/50/75/100%\n",
    "\n",
    "**Skew / Kurtosis**  \n",
    "`pandas` has built in [Skew](http://pandas.pydata.org/pandas-docs/stable/generated/pandas.DataFrame.skew.html) / [Kurtosis](http://pandas.pydata.org/pandas-docs/stable/generated/pandas.DataFrame.kurtosis.html) functions that operate on a data frame. We will specify a column/variable to apply these functions to by using typical `pandas` [dictionary notation](http://pandas.pydata.org/pandas-docs/stable/dsintro.html#column-selection-addition-deletion)."
   ]
  },
  {
   "cell_type": "code",
   "execution_count": 8,
   "metadata": {
    "collapsed": false
   },
   "outputs": [
    {
     "data": {
      "text/plain": [
       "1.4707269994573318"
      ]
     },
     "execution_count": 8,
     "metadata": {},
     "output_type": "execute_result"
    }
   ],
   "source": [
    "auto['price'].skew()"
   ]
  },
  {
   "cell_type": "code",
   "execution_count": 9,
   "metadata": {
    "collapsed": false
   },
   "outputs": [
    {
     "data": {
      "text/plain": [
       "1.5346717037845798"
      ]
     },
     "execution_count": 9,
     "metadata": {},
     "output_type": "execute_result"
    }
   ],
   "source": [
    "auto['price'].kurtosis()"
   ]
  },
  {
   "cell_type": "markdown",
   "metadata": {},
   "source": [
    "**Extreme Observations (Top & Bottom 5)**  \n",
    "To do this, we'll apply the `.order()` function on the **price** series first and use the simple `.head()` and `.tail()` functions on that ordered series."
   ]
  },
  {
   "cell_type": "code",
   "execution_count": 10,
   "metadata": {
    "collapsed": false
   },
   "outputs": [
    {
     "data": {
      "text/plain": [
       "16    3299\n",
       "20    3667\n",
       "2     3799\n",
       "21    3955\n",
       "12    4082\n",
       "Name: price, dtype: int64"
      ]
     },
     "execution_count": 10,
     "metadata": {},
     "output_type": "execute_result"
    }
   ],
   "source": [
    "auto['price'].sort_values().head() # Bottom 5 (Minimums) and observation numbers"
   ]
  },
  {
   "cell_type": "code",
   "execution_count": 11,
   "metadata": {
    "collapsed": false
   },
   "outputs": [
    {
     "data": {
      "text/plain": [
       "5      9735\n",
       "11    10372\n",
       "13    11385\n",
       "14    14500\n",
       "15    15906\n",
       "Name: price, dtype: int64"
      ]
     },
     "execution_count": 11,
     "metadata": {},
     "output_type": "execute_result"
    }
   ],
   "source": [
    "auto['price'].sort_values().tail() # Top 5 (Maximums) and observation numbers"
   ]
  },
  {
   "cell_type": "markdown",
   "metadata": {},
   "source": [
    "**Bonus**: The `.sort_values()` method has an optional argument that changes the default sort order. We can also use this to display, highest to lowest, the greatest 5 values."
   ]
  },
  {
   "cell_type": "code",
   "execution_count": 12,
   "metadata": {
    "collapsed": false
   },
   "outputs": [
    {
     "data": {
      "text/plain": [
       "15    15906\n",
       "14    14500\n",
       "13    11385\n",
       "11    10372\n",
       "5      9735\n",
       "Name: price, dtype: int64"
      ]
     },
     "execution_count": 12,
     "metadata": {},
     "output_type": "execute_result"
    }
   ],
   "source": [
    "auto['price'].sort_values(ascending=False).head() # Top 5 (Maximums), greatest to least"
   ]
  },
  {
   "cell_type": "markdown",
   "metadata": {},
   "source": [
    "**Additional quintiles beyond 0/25/50/75/100%**  \n",
    "`pandas` `.quantile()` function returns the quantile value given a list of percentages."
   ]
  },
  {
   "cell_type": "code",
   "execution_count": 13,
   "metadata": {
    "collapsed": false
   },
   "outputs": [
    {
     "data": {
      "text/plain": [
       "0.99    15554.50\n",
       "0.95    13721.25\n",
       "0.90    10878.50\n",
       "0.10     3877.00\n",
       "0.05     3700.00\n",
       "0.01     3391.00\n",
       "Name: price, dtype: float64"
      ]
     },
     "execution_count": 13,
     "metadata": {},
     "output_type": "execute_result"
    }
   ],
   "source": [
    "auto['price'].quantile([.99, .95, .90, .10, .05, .01])"
   ]
  },
  {
   "cell_type": "markdown",
   "metadata": {},
   "source": [
    "**Bonus**: You can also supply a `percentiles=` argument to `.describe()` to get similar output, however, it returns the values out of the given order."
   ]
  },
  {
   "cell_type": "code",
   "execution_count": 14,
   "metadata": {
    "collapsed": false
   },
   "outputs": [
    {
     "data": {
      "text/plain": [
       "count       26.000000\n",
       "mean      6651.730769\n",
       "std       3371.119809\n",
       "min       3299.000000\n",
       "10%       3877.000000\n",
       "5%        3700.000000\n",
       "1%        3391.000000\n",
       "50%       5146.500000\n",
       "99%      15554.500000\n",
       "95%      13721.250000\n",
       "90%      10878.500000\n",
       "max      15906.000000\n",
       "Name: price, dtype: float64"
      ]
     },
     "execution_count": 14,
     "metadata": {},
     "output_type": "execute_result"
    }
   ],
   "source": [
    "auto['price'].describe(percentiles=[.99, .95, .90, .10, .05, .01])"
   ]
  },
  {
   "cell_type": "markdown",
   "metadata": {},
   "source": [
    "## Frequency Distributions\n",
    "`PROC FREQ` is one of the most commonly used procedures in SAS. Similar, stripped down, functionality is avialble via the `.value_counts()` function applied on a series.\n",
    "\n",
    "### SAS Code\n",
    "    PROC FREQ DATA=auto;\n",
    "        TABLES rep78 ;\n",
    "    RUN;\n",
    "    \n",
    "#### Python Code"
   ]
  },
  {
   "cell_type": "code",
   "execution_count": 15,
   "metadata": {
    "collapsed": false
   },
   "outputs": [
    {
     "data": {
      "text/plain": [
       "3    15\n",
       "4     6\n",
       "2     3\n",
       "5     2\n",
       "Name: rep78, dtype: int64"
      ]
     },
     "execution_count": 15,
     "metadata": {},
     "output_type": "execute_result"
    }
   ],
   "source": [
    "auto['rep78'].value_counts()"
   ]
  },
  {
   "cell_type": "markdown",
   "metadata": {},
   "source": [
    "`.value_counts()` will return values from greatest to least occuring element. To turn this off, supply a `sort=False` argument."
   ]
  },
  {
   "cell_type": "code",
   "execution_count": 16,
   "metadata": {
    "collapsed": false
   },
   "outputs": [
    {
     "data": {
      "text/plain": [
       "2     3\n",
       "3    15\n",
       "4     6\n",
       "5     2\n",
       "Name: rep78, dtype: int64"
      ]
     },
     "execution_count": 16,
     "metadata": {},
     "output_type": "execute_result"
    }
   ],
   "source": [
    "auto['rep78'].value_counts(sort=False)"
   ]
  },
  {
   "cell_type": "markdown",
   "metadata": {},
   "source": [
    "To view values as a percentage, supply the `normalize=True` argument. Multiple arguments can also be provided, for example if you don't want to sort the elements."
   ]
  },
  {
   "cell_type": "code",
   "execution_count": 17,
   "metadata": {
    "collapsed": false
   },
   "outputs": [
    {
     "data": {
      "text/plain": [
       "2    0.115385\n",
       "3    0.576923\n",
       "4    0.230769\n",
       "5    0.076923\n",
       "Name: rep78, dtype: float64"
      ]
     },
     "execution_count": 17,
     "metadata": {},
     "output_type": "execute_result"
    }
   ],
   "source": [
    "auto['rep78'].value_counts(normalize=True, sort=False)"
   ]
  },
  {
   "cell_type": "markdown",
   "metadata": {},
   "source": [
    "## Two-Way Frequency Tables\n",
    "`PROC FREQ` with a `TABLES` statement will return a two-way frequency table with the variables given. \n",
    "\n",
    "    PROC FREQ DATA=auto ;\n",
    "        TABLES rep78 * foreign ;\n",
    "    RUN; \n",
    "    \n",
    "Similar functionality through `pandas` is given through the `crosstab` function.\n",
    "\n",
    "#### Python Code"
   ]
  },
  {
   "cell_type": "code",
   "execution_count": 18,
   "metadata": {
    "collapsed": false
   },
   "outputs": [
    {
     "data": {
      "text/html": [
       "<div>\n",
       "<table border=\"1\" class=\"dataframe\">\n",
       "  <thead>\n",
       "    <tr style=\"text-align: right;\">\n",
       "      <th>foreign</th>\n",
       "      <th>0</th>\n",
       "      <th>1</th>\n",
       "      <th>All</th>\n",
       "    </tr>\n",
       "    <tr>\n",
       "      <th>rep78</th>\n",
       "      <th></th>\n",
       "      <th></th>\n",
       "      <th></th>\n",
       "    </tr>\n",
       "  </thead>\n",
       "  <tbody>\n",
       "    <tr>\n",
       "      <th>2</th>\n",
       "      <td>3</td>\n",
       "      <td>0</td>\n",
       "      <td>3</td>\n",
       "    </tr>\n",
       "    <tr>\n",
       "      <th>3</th>\n",
       "      <td>14</td>\n",
       "      <td>1</td>\n",
       "      <td>15</td>\n",
       "    </tr>\n",
       "    <tr>\n",
       "      <th>4</th>\n",
       "      <td>2</td>\n",
       "      <td>4</td>\n",
       "      <td>6</td>\n",
       "    </tr>\n",
       "    <tr>\n",
       "      <th>5</th>\n",
       "      <td>0</td>\n",
       "      <td>2</td>\n",
       "      <td>2</td>\n",
       "    </tr>\n",
       "    <tr>\n",
       "      <th>All</th>\n",
       "      <td>19</td>\n",
       "      <td>7</td>\n",
       "      <td>26</td>\n",
       "    </tr>\n",
       "  </tbody>\n",
       "</table>\n",
       "</div>"
      ],
      "text/plain": [
       "foreign   0  1  All\n",
       "rep78              \n",
       "2         3  0    3\n",
       "3        14  1   15\n",
       "4         2  4    6\n",
       "5         0  2    2\n",
       "All      19  7   26"
      ]
     },
     "execution_count": 18,
     "metadata": {},
     "output_type": "execute_result"
    }
   ],
   "source": [
    "pd.crosstab(auto['rep78'], auto['foreign'], margins=True)"
   ]
  },
  {
   "cell_type": "markdown",
   "metadata": {},
   "source": [
    "<div class=\"construction\">\n",
    "<b>To be completed</b>: crosstabs with row and column percentages.\n",
    "<br>\n",
    "https://github.com/pmbaumgartner/Python-for-SAS-Users/issues/1\n",
    "<br><br>\n",
    "Possible Solution: http://stackoverflow.com/questions/21247203/how-to-make-a-pandas-crosstab-with-percentages\n",
    "</div>"
   ]
  },
  {
   "cell_type": "markdown",
   "metadata": {},
   "source": [
    "## 3. Making Graphs"
   ]
  },
  {
   "cell_type": "markdown",
   "metadata": {},
   "source": [
    "Making graphs and plotting in SAS is done through a few different procedures (GCHART/PLOT). With `pandas` there is a wrapper to `matplotlib`, the standard Python plotting library. This should cover most of your plotting needs without installing additional packages.\n",
    "\n",
    "Usage is quite simple: you can call the `.plot()` method on any Series or FataFrame and it should figure out the rest based on the type of data. You can also supply [additional arguments](http://pandas.pydata.org/pandas-docs/stable/generated/pandas.DataFrame.plot.htm) to the plot function.\n",
    "\n",
    "### SAS Code\n",
    "    TITLE 'Bar Chart with Discrete Option';\n",
    "    PROC GCHART DATA=auto;\n",
    "        VBAR rep78/ DISCRETE;\n",
    "    RUN; \n",
    "    \n",
    "#### Python Code"
   ]
  },
  {
   "cell_type": "code",
   "execution_count": 19,
   "metadata": {
    "collapsed": true
   },
   "outputs": [],
   "source": [
    "%matplotlib inline"
   ]
  },
  {
   "cell_type": "markdown",
   "metadata": {},
   "source": [
    "<div class=\"pynote\">\n",
    "<b>Python Note</b>: That line of code above is an <a href=\"https://ipython.org/ipython-doc/3/notebook/notebook.html#plotting\">IPython Magic Command</a>. If we don't include this, our plots open in another window by default. If you run into an issue where plots don't show up, be sure you include this line of code in your notebook somewhere.\n",
    "</div>"
   ]
  },
  {
   "cell_type": "markdown",
   "metadata": {},
   "source": [
    "We'll again use the dictionary representation to select the `rep78` variable. Now, the variable itself isn't in the format we want it in -- currently it's an integer which by default the plot will be a line chart. Don't worry if this doesn't make sense. What we're interested is the count of each value of `rep78`, so we can use `.value_counts()` to roll it up, then plot those values.\n",
    "\n",
    "We want to supply the `sort=False` argument to `.value_counts()`, otherwise our bar chart will be in descending order by count.\n",
    "\n",
    "Two arguments are supplied to the `.plot` method: `kind='bar'` indicates that we want a bar chart, and `title=` allows us to give a title to the chart."
   ]
  },
  {
   "cell_type": "code",
   "execution_count": 20,
   "metadata": {
    "collapsed": false
   },
   "outputs": [
    {
     "data": {
      "text/plain": [
       "<matplotlib.axes._subplots.AxesSubplot at 0x112869860>"
      ]
     },
     "execution_count": 20,
     "metadata": {},
     "output_type": "execute_result"
    },
    {
     "data": {
      "image/png": "[encoded data removed]",
      "text/plain": [
       "<matplotlib.figure.Figure at 0x11285bdd8>"
      ]
     },
     "metadata": {},
     "output_type": "display_data"
    }
   ],
   "source": [
    "auto['rep78'].value_counts(sort=False).plot(kind='bar',\n",
    "                                            title=\"Bar Chart on Value Counts\")"
   ]
  },
  {
   "cell_type": "markdown",
   "metadata": {},
   "source": [
    "<div class=\"pynote\">\n",
    "<b>Python Note</b>: It's always a good idea to try the code for yourself and modify parts of the code to see how they change the output. You can download this IPython Notebook file and run it yourself.\n",
    "<br><br>\n",
    "Try experimenting with the cell above. What happens if you don't apply <code>.value_counts()</code>? What's the default plot for the data if we don't supply <code>kind='bar'</code>?\n",
    "<br><br>\n",
    "You will learn far more dissecting the code than reading your way through a tutorial.\n",
    "</div>"
   ]
  },
  {
   "cell_type": "markdown",
   "metadata": {},
   "source": [
    "<div class=\"resources\">\n",
    "There's much more plotting functionality covered in the `pandas` <a href=\"http://pandas.pydata.org/pandas-docs/stable/visualization.html\">plotting documentation.</a>\n",
    "<br><br>\n",
    "There are also tons of great <a href=\"http://pandas.pydata.org/pandas-docs/stable/ecosystem.html#ecosystem-visualization\">visualization packages</a> available for Python. I'm partial to <a href=\"http://stanford.edu/~mwaskom/software/seaborn/\">seaborn</a>.\n",
    "</div>"
   ]
  },
  {
   "cell_type": "markdown",
   "metadata": {},
   "source": [
    "## 4. Correlation, regression and analysis of variance\n",
    "Correlation, regression, and analysis of variance will require us to expand our program's functionality beyond what's in the `pandas` package. We'll be importing some new packages to handle the regression and ANOVA portions, but correlation is simple enough to be handled with `pandas`.\n",
    "\n",
    "## Correlation\n",
    "With SAS's `PROC CORR` the output is simple statistics (which we've covered with `.describe()`, a correlation matrix with Pearson's correlation coefficients, and a hypothesis test with: <img src=\"http://support.sas.com/documentation/cdl/en/procstat/63104/HTML/default/images/procstat_corr0004.png\">\n",
    "\n",
    "\n",
    "### SAS Code\n",
    "    PROC CORR DATA=auto ;\n",
    "        VAR price mpg weight length ;\n",
    "    RUN; \n",
    "\n",
    "#### Python Code\n",
    "First, we're going to create a list of the variables we're interested in so we can subset our *DataFrame*. We'll store this list of columns in the `columns` variable. Declaring a list variable with the columns were interested in is something we'll do pretty frequently in Python."
   ]
  },
  {
   "cell_type": "code",
   "execution_count": 21,
   "metadata": {
    "collapsed": true
   },
   "outputs": [],
   "source": [
    "corr_columns = ['price', 'mpg', 'weight', 'length']"
   ]
  },
  {
   "cell_type": "markdown",
   "metadata": {},
   "source": [
    "Now, we can subset our `auto` *DataFrame* on those columns using the similar dictionary notation as calling for a single column, except this time we're providing our list variable.\n",
    "\n",
    "We'll take this subsetted *DataFrame* and apply the `.corr()` method to it."
   ]
  },
  {
   "cell_type": "code",
   "execution_count": 22,
   "metadata": {
    "collapsed": false
   },
   "outputs": [
    {
     "data": {
      "text/html": [
       "<div>\n",
       "<table border=\"1\" class=\"dataframe\">\n",
       "  <thead>\n",
       "    <tr style=\"text-align: right;\">\n",
       "      <th></th>\n",
       "      <th>price</th>\n",
       "      <th>mpg</th>\n",
       "      <th>weight</th>\n",
       "      <th>length</th>\n",
       "    </tr>\n",
       "  </thead>\n",
       "  <tbody>\n",
       "    <tr>\n",
       "      <th>price</th>\n",
       "      <td>1.000000</td>\n",
       "      <td>-0.438462</td>\n",
       "      <td>0.556072</td>\n",
       "      <td>0.436035</td>\n",
       "    </tr>\n",
       "    <tr>\n",
       "      <th>mpg</th>\n",
       "      <td>-0.438462</td>\n",
       "      <td>1.000000</td>\n",
       "      <td>-0.808161</td>\n",
       "      <td>-0.768052</td>\n",
       "    </tr>\n",
       "    <tr>\n",
       "      <th>weight</th>\n",
       "      <td>0.556072</td>\n",
       "      <td>-0.808161</td>\n",
       "      <td>1.000000</td>\n",
       "      <td>0.906536</td>\n",
       "    </tr>\n",
       "    <tr>\n",
       "      <th>length</th>\n",
       "      <td>0.436035</td>\n",
       "      <td>-0.768052</td>\n",
       "      <td>0.906536</td>\n",
       "      <td>1.000000</td>\n",
       "    </tr>\n",
       "  </tbody>\n",
       "</table>\n",
       "</div>"
      ],
      "text/plain": [
       "           price       mpg    weight    length\n",
       "price   1.000000 -0.438462  0.556072  0.436035\n",
       "mpg    -0.438462  1.000000 -0.808161 -0.768052\n",
       "weight  0.556072 -0.808161  1.000000  0.906536\n",
       "length  0.436035 -0.768052  0.906536  1.000000"
      ]
     },
     "execution_count": 22,
     "metadata": {},
     "output_type": "execute_result"
    }
   ],
   "source": [
    "auto[corr_columns].corr()"
   ]
  },
  {
   "cell_type": "markdown",
   "metadata": {},
   "source": [
    "**Hypothesis Testing**  \n",
    "There's no built-in hypothesis testing for correlation into `pandas`, so we're going to import a function from the `scipi.stats` module."
   ]
  },
  {
   "cell_type": "code",
   "execution_count": 23,
   "metadata": {
    "collapsed": true
   },
   "outputs": [],
   "source": [
    "from scipy.stats import pearsonr"
   ]
  },
  {
   "cell_type": "markdown",
   "metadata": {},
   "source": [
    "`pearsonr()` takes two arguments: an X and Y variable you want to correlate. We'll supply two of our columns we're curious about -- **weight** and **mpg**."
   ]
  },
  {
   "cell_type": "code",
   "execution_count": 24,
   "metadata": {
    "collapsed": false
   },
   "outputs": [
    {
     "data": {
      "text/plain": [
       "(-0.80816094828017604, 5.9349102587315488e-07)"
      ]
     },
     "execution_count": 24,
     "metadata": {},
     "output_type": "execute_result"
    }
   ],
   "source": [
    "pearsonr(auto['weight'], auto['mpg'])"
   ]
  },
  {
   "cell_type": "markdown",
   "metadata": {},
   "source": [
    "<div class=\"pynote\">\n",
    "<b>Python Note</b>: Argh, they just can't make it easy for us, can they? What are those two values and why do they have parenthesis around them?\n",
    "<br><br>\n",
    "One of the things you'll get used to is reading the documentation find out what a function or method <em>returns</em> (i.e. outputs). In our case, `pearsonr()` <a href=\"http://docs.scipy.org/doc/scipy-0.14.0/reference/generated/scipy.stats.pearsonr.html#scipy.stats.pearsonr\">returns a tuple</a> with the value of <em>r</em> and the p-value of the hypothesis test.\n",
    "<br><br>\n",
    "Tuples themselves are out of scope of this tutorial, but you can always read more at the <a href=\"https://docs.python.org/2/library/functions.html#tuple\">documentation</a>."
   ]
  },
  {
   "cell_type": "markdown",
   "metadata": {},
   "source": [
    "We're going to store the results to an object, then we'll use indexing to call the second item of that object (which is a *tuple*). Remember that python is zero indexed. Then, we'll use python's `format()` function to display the number."
   ]
  },
  {
   "cell_type": "code",
   "execution_count": 25,
   "metadata": {
    "collapsed": false
   },
   "outputs": [
    {
     "data": {
      "text/plain": [
       "'0.00000059'"
      ]
     },
     "execution_count": 25,
     "metadata": {},
     "output_type": "execute_result"
    }
   ],
   "source": [
    "pearsonr_results = pearsonr(auto['weight'], auto['mpg'])\n",
    "p_value = pearsonr_results[1]\n",
    "\"{:08.8f}\".format(p_value)"
   ]
  },
  {
   "cell_type": "markdown",
   "metadata": {},
   "source": [
    "<div class=\"resources\">\n",
    "<a href=\"https://pyformat.info\">Here</a> is the best resource I've found on using formats in Python. At least they're somewhat similar to SAS formats.\n",
    "</div>"
   ]
  },
  {
   "cell_type": "markdown",
   "metadata": {},
   "source": [
    "## Regression\n",
    "`PROC REG` is the standard procedure for linear regression in SAS. For Python, everything you need for statistical modeling is in the `statsmodels` [module](http://statsmodels.sourceforge.net/).\n",
    "\n",
    "We'll try and predict **mpg** from **weight**, **length**, and **foreign** using multiple linear regression.\n",
    "\n",
    "### SAS Code\n",
    "    PROC REG DATA=auto;\n",
    "        MODEL mpg = weight length foreign ;\n",
    "    RUN;\n",
    "    \n",
    "#### Python Code"
   ]
  },
  {
   "cell_type": "code",
   "execution_count": 26,
   "metadata": {
    "collapsed": false
   },
   "outputs": [],
   "source": [
    "import statsmodels.api as sm"
   ]
  },
  {
   "cell_type": "markdown",
   "metadata": {},
   "source": [
    "After we import `statsmodels`, I find it easiest to use [matrix notation](https://en.wikipedia.org/wiki/Linear_regression#Introduction_to_linear_regression) to conceptualize our regression. In that vein, we'll assign our design matrix `X` and our target vector `Y`."
   ]
  },
  {
   "cell_type": "code",
   "execution_count": 27,
   "metadata": {
    "collapsed": false
   },
   "outputs": [],
   "source": [
    "X = auto[['weight', 'length', 'foreign']]\n",
    "Y = auto['mpg']"
   ]
  },
  {
   "cell_type": "markdown",
   "metadata": {},
   "source": [
    "`SAS` adds an intercept automatically for regressions, unless you use the `NOINT` option on the `MODEL` statement. For `statsmodels` we have to manually add the intercept/constant. There's a convienent function, `add_constant()`, that we can use to add an intercept column to our design matrix. "
   ]
  },
  {
   "cell_type": "code",
   "execution_count": 28,
   "metadata": {
    "collapsed": true
   },
   "outputs": [],
   "source": [
    "X = sm.add_constant(X)"
   ]
  },
  {
   "cell_type": "markdown",
   "metadata": {},
   "source": [
    "<div class=\"pynote\">\n",
    "<b>Python Note</b>: An expression will always be resolved before it is assigned to a variable. Above, we're calling the <code>.add_constant()</code> method on <code>X</code>, which <a href=\"http://statsmodels.sourceforge.net/devel/generated/statsmodels.tools.tools.add_constant.html\">returns a matrix with a constant added</a>, and then reassigning that value to <code>X</code>. This overwites the previous value of <code>X</code>, which is fine because we don't need the values without an intercept.\n",
    "</div>"
   ]
  },
  {
   "cell_type": "markdown",
   "metadata": {},
   "source": [
    "Next we'll create the model object and provide our target vector and design matrix as arguments. We'll store the model in the `mod` variable."
   ]
  },
  {
   "cell_type": "code",
   "execution_count": 29,
   "metadata": {
    "collapsed": true
   },
   "outputs": [],
   "source": [
    "model = sm.OLS(Y, X)"
   ]
  },
  {
   "cell_type": "markdown",
   "metadata": {},
   "source": [
    "Now the model object exists, but it hasn't been fit to the data yet. To do that, we have to call the `.fit()` method on the model. We'll do that below, then store the fit model in the `res` variable."
   ]
  },
  {
   "cell_type": "code",
   "execution_count": 30,
   "metadata": {
    "collapsed": false
   },
   "outputs": [],
   "source": [
    "res = model.fit()"
   ]
  },
  {
   "cell_type": "markdown",
   "metadata": {},
   "source": [
    "Finally, we have the results of the model fit. To display statistics about the fitted model, we are going to call the `.summary()` method on the `res` object and print it."
   ]
  },
  {
   "cell_type": "code",
   "execution_count": 31,
   "metadata": {
    "collapsed": false
   },
   "outputs": [
    {
     "name": "stdout",
     "output_type": "stream",
     "text": [
      "                            OLS Regression Results                            \n",
      "==============================================================================\n",
      "Dep. Variable:                    mpg   R-squared:                       0.669\n",
      "Model:                            OLS   Adj. R-squared:                  0.624\n",
      "Method:                 Least Squares   F-statistic:                     14.84\n",
      "Date:                Fri, 16 Dec 2016   Prob (F-statistic):           1.67e-05\n",
      "Time:                        09:01:09   Log-Likelihood:                -62.552\n",
      "No. Observations:                  26   AIC:                             133.1\n",
      "Df Residuals:                      22   BIC:                             138.1\n",
      "Df Model:                           3                                         \n",
      "Covariance Type:            nonrobust                                         \n",
      "==============================================================================\n",
      "                 coef    std err          t      P>|t|      [95.0% Conf. Int.]\n",
      "------------------------------------------------------------------------------\n",
      "const         44.9686      9.323      4.824      0.000        25.635    64.303\n",
      "weight        -0.0050      0.002     -2.289      0.032        -0.010    -0.000\n",
      "length        -0.0431      0.077     -0.560      0.581        -0.203     0.116\n",
      "foreign       -1.2692      1.632     -0.778      0.445        -4.654     2.116\n",
      "==============================================================================\n",
      "Omnibus:                       14.695   Durbin-Watson:                   2.003\n",
      "Prob(Omnibus):                  0.001   Jarque-Bera (JB):               15.784\n",
      "Skew:                           1.371   Prob(JB):                     0.000374\n",
      "Kurtosis:                       5.656   Cond. No.                     5.18e+04\n",
      "==============================================================================\n",
      "\n",
      "Warnings:\n",
      "[1] Standard Errors assume that the covariance matrix of the errors is correctly specified.\n",
      "[2] The condition number is large, 5.18e+04. This might indicate that there are\n",
      "strong multicollinearity or other numerical problems.\n"
     ]
    }
   ],
   "source": [
    "print(res.summary())"
   ]
  },
  {
   "cell_type": "markdown",
   "metadata": {},
   "source": [
    "We finally have something that looks similar to SAS output! The exact details of the output are outside of the scope of this tutorial, but hopefully you'll notice that most of the essential pieces of the model are there as well as some helpful *Warnings*."
   ]
  },
  {
   "cell_type": "markdown",
   "metadata": {},
   "source": [
    "## ANOVA / GLM\n",
    "For our final results, we're going to run an ANOVA to see if MPG is the same for foreign and domestic cars.\n",
    "\n",
    "In addition, we're going to look at `statsmodels` *formula* functionality, which allows us to input general linear model equations with [R-style formulas](http://statsmodels.sourceforge.net/devel/example_formulas.html). You may be asking WHY, as I did, and the answer to that is because `statsmodels` [ANOVA method](http://statsmodels.sourceforge.net/devel/generated/statsmodels.stats.anova.anova_lm.html) only applies to models that have been input using the formula methodology.\n",
    "\n",
    "### SAS Code\n",
    "    PROC GLM DATA=auto;\n",
    "        CLASS foreign ;\n",
    "        MODEL mpg = foreign ;\n",
    "    RUN; \n",
    "\n",
    "#### Python Code\n",
    "First we need to import the formula API from statsmodels. We'll specifically just import the `ols` method."
   ]
  },
  {
   "cell_type": "code",
   "execution_count": 32,
   "metadata": {
    "collapsed": true
   },
   "outputs": [],
   "source": [
    "from statsmodels.formula.api import ols"
   ]
  },
  {
   "cell_type": "markdown",
   "metadata": {},
   "source": [
    "Now we'll declare our formula as a string. We could type the string straight into our `ols()` function, but it's good practice to declare it as a separate variable so we can adjust it as needed. The variables in the formula need to correspond to variables/columns in our `auto` *DataFrame*."
   ]
  },
  {
   "cell_type": "code",
   "execution_count": 33,
   "metadata": {
    "collapsed": true
   },
   "outputs": [],
   "source": [
    "formula = 'mpg ~ foreign'"
   ]
  },
  {
   "cell_type": "markdown",
   "metadata": {},
   "source": [
    "Similarly to our Regression example, we have to create a model object first then fit the model with our data. We'll do both steps in the same cell below.\n",
    "\n",
    "The `ols` (notice the lowercase) function takes two arguments: the `formula` that describes our model, and the `data=` argument which points to our dataframe. The columns listed in `formula` match those in a *DataFrame* supplied to the `data=` argument."
   ]
  },
  {
   "cell_type": "code",
   "execution_count": 34,
   "metadata": {
    "collapsed": false
   },
   "outputs": [],
   "source": [
    "anova = ols(formula, data=auto)\n",
    "anova_res = anova.fit()"
   ]
  },
  {
   "cell_type": "markdown",
   "metadata": {},
   "source": [
    "Finally, we're going to look at our ANOVA results. Here we're calling the `.anova_lm()` method from the `stats` module from the statsmodels API we originally imported as `sm`. It takes our model results as an argument and we can optionally tell it to give us Type II Sum of Squares with the `typ=` argument "
   ]
  },
  {
   "cell_type": "markdown",
   "metadata": {},
   "source": [
    "<div class=\"pynote\">\n",
    "<b>Python Note</b>: If you're scratching your head why we can just call <code>ols()</code>, but have to write out the entire <code>sm.stats.anova_lm()</code> statement below, it would be helpful to review <code>Imports</code> in the <a href=\"../../general/Intro to Python & FAQ.ipynb\">Intro to Python Notebook</a>.\n",
    "</div>"
   ]
  },
  {
   "cell_type": "code",
   "execution_count": 35,
   "metadata": {
    "collapsed": false
   },
   "outputs": [
    {
     "name": "stdout",
     "output_type": "stream",
     "text": [
      "              sum_sq    df         F    PR(>F)\n",
      "foreign    90.688259   1.0  4.580621  0.042704\n",
      "Residual  475.157895  24.0       NaN       NaN\n"
     ]
    }
   ],
   "source": [
    "print(sm.stats.anova_lm(anova_res, typ=2))"
   ]
  },
  {
   "cell_type": "markdown",
   "metadata": {},
   "source": [
    "Great! A Pr(>F) of 0.042. If our alpha and p-value were 0.05, then we would reject the null hypothesis of no difference. There is a statistical difference between Foreign and Domestic cars when it comes to MPG!\n",
    "\n",
    "The output may be a little less than SAS, but additional output is avaialable by investigating some of the attributes of our fit model. Below we'll take a look at Total Sum of Squares, R-squared, and Mean Squared Error. You can read the [documentation](http://statsmodels.sourceforge.net/devel/generated/statsmodels.regression.linear_model.RegressionResults.html) for a full list of model attributes."
   ]
  },
  {
   "cell_type": "code",
   "execution_count": 36,
   "metadata": {
    "collapsed": false
   },
   "outputs": [
    {
     "name": "stdout",
     "output_type": "stream",
     "text": [
      "TSS: 565.846153846\n",
      "R^2 0.160270169715\n",
      "MSE (Not Root): 19.798245614\n"
     ]
    }
   ],
   "source": [
    "print(\"TSS:\", anova_res.centered_tss)\n",
    "print(\"R^2\", anova_res.rsquared)\n",
    "print(\"MSE (Not Root):\", anova_res.mse_resid)"
   ]
  },
  {
   "cell_type": "markdown",
   "metadata": {},
   "source": [
    "That completes our tutorial. At this point you should be able to replicate the general functinoality of the [Introduction to the Features of SAS](http://www.ats.ucla.edu/stat/sas/modules/intsas.htm) tutorial from UCLA."
   ]
  },
  {
   "cell_type": "markdown",
   "metadata": {
    "collapsed": true
   },
   "source": [
    "------"
   ]
  },
  {
   "cell_type": "code",
   "execution_count": 37,
   "metadata": {
    "collapsed": false
   },
   "outputs": [
    {
     "data": {
      "text/html": [
       "<link href='http://fonts.googleapis.com/css?family=Open+Sans:400italic,400,700' rel='stylesheet' type='text/css'>\n",
       "<style>\n",
       ".rendered_html h1, h2 {\n",
       "\tcolor: #004A72;\n",
       "}\n",
       "\n",
       ".rendered_html h3 {\n",
       "\tcolor: #007FC3;\n",
       "\tfont-size: 128%;\n",
       "}\n",
       ".rendered_html h4 {\n",
       "\tcolor: #007F3B;\n",
       "\tfont-size: 128%;\n",
       "}\n",
       "\n",
       ".rendered_html code {\n",
       "    font-size: 105%;\n",
       "}\n",
       "\n",
       ".pynote {\n",
       "\tbackground-color: #f4fff3;\n",
       "\tborder-left: 5px solid #6cf955;\n",
       "\tpadding: 0.5em;\n",
       "}\n",
       "\n",
       ".challenge {\n",
       "\tbackground-color: #eeeef6;\n",
       "\tborder-left: 5px solid #5B5EA6;\n",
       "\tpadding: 0.5em;\n",
       "}\n",
       "\n",
       ".construction {\n",
       "\tbackground-color: #fff4f3;\n",
       "\tborder-left: 5px solid #ff6058;\n",
       "\tpadding: 0.5em;\n",
       "}\n",
       "\n",
       ".resources {\n",
       "\tbackground-color: #f3f7fe;\n",
       "\tborder-left: 5px solid #6398f3;\n",
       "\tpadding: 0.5em;\n",
       "}\n",
       "\n",
       ".sas code, .sasoutput code {\n",
       "\tbackground-color: transparent;\n",
       "}\n",
       "\n",
       ".sas {\n",
       "\tbackground-color: #fffcf3;\n",
       "\tborder-left: 5px solid #ffd758;\n",
       "\tpadding: 0.5em;\n",
       "}\n",
       "\n",
       ".sasoutput {\n",
       "\tbackground-color: #ffeaad;\n",
       "\tborder-left: 5px solid #ffd758;\n",
       "\tpadding: 0.5em;\n",
       "}\n",
       "\n",
       "\n",
       "div.text_cell_render{\n",
       "    font-family: \"Open Sans\", \"Helvetica Neue\", Arial, Helvetica, Geneva, sans-serif;\n",
       "\n",
       "}\n",
       "</style>\n"
      ],
      "text/plain": [
       "<IPython.core.display.HTML object>"
      ]
     },
     "execution_count": 37,
     "metadata": {},
     "output_type": "execute_result"
    }
   ],
   "source": [
    "# This cell imports the styling for this notebook. You can safely ignore it.\n",
    "\n",
    "from IPython.display import HTML\n",
    "\n",
    "def css_styling():\n",
    "    styles = open(\"../../_styles/custom.css\", \"r\").read()\n",
    "    return HTML(styles)\n",
    "css_styling()"
   ]
  },
  {
   "cell_type": "code",
   "execution_count": 38,
   "metadata": {
    "collapsed": false
   },
   "outputs": [
    {
     "name": "stdout",
     "output_type": "stream",
     "text": [
      "Python 3.5.2 :: Anaconda 4.1.1 (x86_64)\r\n"
     ]
    }
   ],
   "source": [
    "!python -V"
   ]
  },
  {
   "cell_type": "code",
   "execution_count": null,
   "metadata": {
    "collapsed": true
   },
   "outputs": [],
   "source": []
  }
 ],
 "metadata": {
  "anaconda-cloud": {},
  "kernelspec": {
   "display_name": "Python [Root]",
   "language": "python",
   "name": "Python [Root]"
  },
  "language_info": {
   "codemirror_mode": {
    "name": "ipython",
    "version": 3
   },
   "file_extension": ".py",
   "mimetype": "text/x-python",
   "name": "python",
   "nbconvert_exporter": "python",
   "pygments_lexer": "ipython3",
   "version": "3.5.2"
  }
 },
 "nbformat": 4,
 "nbformat_minor": 0
}
