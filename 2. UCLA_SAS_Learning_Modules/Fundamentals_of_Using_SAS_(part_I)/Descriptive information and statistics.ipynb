{
 "cells": [
  {
   "cell_type": "markdown",
   "metadata": {},
   "source": [
    "# Descriptive information and statistics\n",
    "This notebook will correspond to the [Descriptive Statistics](http://www.ats.ucla.edu/stat/sas/modules/descript.htm) page. That tutorial covers basic features of SAS and applies them to the cars dataset. The dataset contains variables on **make, price, miles per gallon, repair rating (in 1978)**, and whether the car was **foreign** or **domestic**.\n",
    "\n",
    "### SAS Code\n",
    "\n",
    "    DATA auto ;\n",
    "      input MAKE $ PRICE MPG REP78 FOREIGN ;\n",
    "    DATALINES;\n",
    "    [data]\n",
    "    RUN;\n",
    "    \n",
    "    PROC PRINT DATA=auto(obs=10);\n",
    "    RUN;\n",
    "    \n",
    "#### Python Code"
   ]
  },
  {
   "cell_type": "code",
   "execution_count": 1,
   "metadata": {
    "collapsed": true
   },
   "outputs": [],
   "source": [
    "from io import StringIO\n",
    "\n",
    "import pandas as pd"
   ]
  },
  {
   "cell_type": "code",
   "execution_count": 3,
   "metadata": {
    "collapsed": false
   },
   "outputs": [
    {
     "data": {
      "text/html": [
       "<div>\n",
       "<table border=\"1\" class=\"dataframe\">\n",
       "  <thead>\n",
       "    <tr style=\"text-align: right;\">\n",
       "      <th></th>\n",
       "      <th>make</th>\n",
       "      <th>price</th>\n",
       "      <th>mpg</th>\n",
       "      <th>rep78</th>\n",
       "      <th>foreign</th>\n",
       "    </tr>\n",
       "  </thead>\n",
       "  <tbody>\n",
       "    <tr>\n",
       "      <th>0</th>\n",
       "      <td>AMC</td>\n",
       "      <td>4099</td>\n",
       "      <td>22</td>\n",
       "      <td>3</td>\n",
       "      <td>0</td>\n",
       "    </tr>\n",
       "    <tr>\n",
       "      <th>1</th>\n",
       "      <td>AMC</td>\n",
       "      <td>4749</td>\n",
       "      <td>17</td>\n",
       "      <td>3</td>\n",
       "      <td>0</td>\n",
       "    </tr>\n",
       "    <tr>\n",
       "      <th>2</th>\n",
       "      <td>AMC</td>\n",
       "      <td>3799</td>\n",
       "      <td>22</td>\n",
       "      <td>3</td>\n",
       "      <td>0</td>\n",
       "    </tr>\n",
       "    <tr>\n",
       "      <th>3</th>\n",
       "      <td>Audi</td>\n",
       "      <td>9690</td>\n",
       "      <td>17</td>\n",
       "      <td>5</td>\n",
       "      <td>1</td>\n",
       "    </tr>\n",
       "    <tr>\n",
       "      <th>4</th>\n",
       "      <td>Audi</td>\n",
       "      <td>6295</td>\n",
       "      <td>23</td>\n",
       "      <td>3</td>\n",
       "      <td>1</td>\n",
       "    </tr>\n",
       "    <tr>\n",
       "      <th>5</th>\n",
       "      <td>BMW</td>\n",
       "      <td>9735</td>\n",
       "      <td>25</td>\n",
       "      <td>4</td>\n",
       "      <td>1</td>\n",
       "    </tr>\n",
       "    <tr>\n",
       "      <th>6</th>\n",
       "      <td>Buick</td>\n",
       "      <td>4816</td>\n",
       "      <td>20</td>\n",
       "      <td>3</td>\n",
       "      <td>0</td>\n",
       "    </tr>\n",
       "    <tr>\n",
       "      <th>7</th>\n",
       "      <td>Buick</td>\n",
       "      <td>7827</td>\n",
       "      <td>15</td>\n",
       "      <td>4</td>\n",
       "      <td>0</td>\n",
       "    </tr>\n",
       "    <tr>\n",
       "      <th>8</th>\n",
       "      <td>Buick</td>\n",
       "      <td>5788</td>\n",
       "      <td>18</td>\n",
       "      <td>3</td>\n",
       "      <td>0</td>\n",
       "    </tr>\n",
       "    <tr>\n",
       "      <th>9</th>\n",
       "      <td>Buick</td>\n",
       "      <td>4453</td>\n",
       "      <td>26</td>\n",
       "      <td>3</td>\n",
       "      <td>0</td>\n",
       "    </tr>\n",
       "  </tbody>\n",
       "</table>\n",
       "</div>"
      ],
      "text/plain": [
       "    make  price  mpg  rep78  foreign\n",
       "0    AMC   4099   22      3        0\n",
       "1    AMC   4749   17      3        0\n",
       "2    AMC   3799   22      3        0\n",
       "3   Audi   9690   17      5        1\n",
       "4   Audi   6295   23      3        1\n",
       "5    BMW   9735   25      4        1\n",
       "6  Buick   4816   20      3        0\n",
       "7  Buick   7827   15      4        0\n",
       "8  Buick   5788   18      3        0\n",
       "9  Buick   4453   26      3        0"
      ]
     },
     "execution_count": 3,
     "metadata": {},
     "output_type": "execute_result"
    }
   ],
   "source": [
    "datalines = StringIO('''\n",
    "AMC    4099 22 3 0\n",
    "AMC    4749 17 3 0\n",
    "AMC    3799 22 3 0\n",
    "Audi   9690 17 5 1\n",
    "Audi   6295 23 3 1\n",
    "BMW    9735 25 4 1\n",
    "Buick  4816 20 3 0\n",
    "Buick  7827 15 4 0\n",
    "Buick  5788 18 3 0\n",
    "Buick  4453 26 3 0\n",
    "Buick  5189 20 3 0\n",
    "Buick 10372 16 3 0\n",
    "Buick  4082 19 3 0\n",
    "Cad.  11385 14 3 0\n",
    "Cad.  14500 14 2 0\n",
    "Cad.  15906 21 3 0\n",
    "Chev.  3299 29 3 0\n",
    "Chev.  5705 16 4 0\n",
    "Chev.  4504 22 3 0\n",
    "Chev.  5104 22 2 0\n",
    "Chev.  3667 24 2 0\n",
    "Chev.  3955 19 3 0\n",
    "Datsun 6229 23 4 1\n",
    "Datsun 4589 35 5 1\n",
    "Datsun 5079 24 4 1\n",
    "Datsun 8129 21 4 1\n",
    "''')\n",
    "\n",
    "auto = pd.read_table(datalines,\n",
    "                     delim_whitespace=True,\n",
    "                     names=['make', 'price', 'mpg', 'rep78', 'foreign'])\n",
    "\n",
    "datalines.close()\n",
    "\n",
    "auto.head(10)"
   ]
  },
  {
   "cell_type": "markdown",
   "metadata": {},
   "source": [
    "## Using Proc Freq for Frequencies\n",
    "### SAS Code\n",
    "    PROC FREQ DATA=auto;\n",
    "      TABLES make ;\n",
    "    RUN;\n",
    "\n",
    "    PROC FREQ DATA=auto;\n",
    "      TABLES rep78 ;\n",
    "    RUN;\n",
    "\n",
    "    PROC FREQ DATA=auto;\n",
    "      TABLES foreign ;\n",
    "    RUN;\n",
    "\n",
    "#### Python Code\n",
    "`PROQ FREQ` returns four different pieces of information about a variable: Frequency, Percent, Cumulative Frequency, and Cumulative Percent. Python can do so as well, but only if you ask it. Below we will individually replicate each of these measures, and then write our own custom function to return all of them."
   ]
  },
  {
   "cell_type": "code",
   "execution_count": 6,
   "metadata": {
    "collapsed": false
   },
   "outputs": [
    {
     "data": {
      "text/plain": [
       "AMC       3\n",
       "BMW       1\n",
       "Audi      2\n",
       "Datsun    4\n",
       "Buick     7\n",
       "Cad.      3\n",
       "Chev.     6\n",
       "Name: make, dtype: int64"
      ]
     },
     "execution_count": 6,
     "metadata": {},
     "output_type": "execute_result"
    }
   ],
   "source": [
    "# Frequency, sorted alphabetically\n",
    "auto['make'].value_counts(sort=False)"
   ]
  },
  {
   "cell_type": "code",
   "execution_count": 7,
   "metadata": {
    "collapsed": false
   },
   "outputs": [
    {
     "data": {
      "text/plain": [
       "AMC       0.115385\n",
       "BMW       0.038462\n",
       "Audi      0.076923\n",
       "Datsun    0.153846\n",
       "Buick     0.269231\n",
       "Cad.      0.115385\n",
       "Chev.     0.230769\n",
       "Name: make, dtype: float64"
      ]
     },
     "execution_count": 7,
     "metadata": {},
     "output_type": "execute_result"
    }
   ],
   "source": [
    "# Percent, sorted alphabetically\n",
    "auto['make'].value_counts(sort=False, normalize=True)"
   ]
  },
  {
   "cell_type": "code",
   "execution_count": 8,
   "metadata": {
    "collapsed": false
   },
   "outputs": [
    {
     "data": {
      "text/plain": [
       "AMC        3\n",
       "BMW        4\n",
       "Audi       6\n",
       "Datsun    10\n",
       "Buick     17\n",
       "Cad.      20\n",
       "Chev.     26\n",
       "Name: make, dtype: int64"
      ]
     },
     "execution_count": 8,
     "metadata": {},
     "output_type": "execute_result"
    }
   ],
   "source": [
    "# Cumulative Frequency, sorted alphabetically\n",
    "auto['make'].value_counts(sort=False).cumsum()"
   ]
  },
  {
   "cell_type": "code",
   "execution_count": 9,
   "metadata": {
    "collapsed": false
   },
   "outputs": [
    {
     "data": {
      "text/plain": [
       "AMC       0.115385\n",
       "BMW       0.153846\n",
       "Audi      0.230769\n",
       "Datsun    0.384615\n",
       "Buick     0.653846\n",
       "Cad.      0.769231\n",
       "Chev.     1.000000\n",
       "Name: make, dtype: float64"
      ]
     },
     "execution_count": 9,
     "metadata": {},
     "output_type": "execute_result"
    }
   ],
   "source": [
    "# Cumulative Percent, sorted alphabetically\n",
    "auto['make'].value_counts(sort=False, normalize=True).cumsum()"
   ]
  },
  {
   "cell_type": "markdown",
   "metadata": {},
   "source": [
    "<div class=\"pynote\">\n",
    "<b>Python Note</b>:\n",
    "One thing you may notice in the cumulative functions is the fact that we're adding multiple methods or functions on the previous piece. The first part, `auto['make']` is a Series, calling the `.value_counts()` method on that Series actually returns another Series that contains the value counts. Then, we're calling `.cumsum()` on the `value_counts()` Series, returning the cumulative sum of the value counts. A method like `cumsum()` works on any Series, regardless of whether you have aggregated the data in any way.\n",
    "<br><br>\n",
    "You can find the type of any object by calling the `type()` function on it. For example:\n",
    "<code><pre>> type(auto['make'].value_counts())\n",
    "pandas.core.series.Series</code></pre>\n",
    "</div>"
   ]
  },
  {
   "cell_type": "markdown",
   "metadata": {},
   "source": [
    "## Detour: Creating our own Python Functions\n",
    "One of the advantages of using a general programming language is that we can create our own objects that meet our needs. You may find this similar to using the macro language in SAS, however, Python is much more flexible since it is a general programming language\n",
    "\n",
    "Below we'll create our own function for returning an object like the SAS version of `PROC FREQ`. The contents of the function itself isn't anything new, but saving the results of a `value_counts()` to an object as well as the structure of a function may be new.\n",
    "\n"
   ]
  },
  {
   "cell_type": "markdown",
   "metadata": {},
   "source": [
    "<div class=\"pynote\">\n",
    "<b>Python Note</b>:\n",
    "In general, functions in python follow the following format:\n",
    "<pre><code>def add(a, b):\n",
    "    return a + b</pre></code>\n",
    "    \n",
    "A function starts with a `def`, followed by the function name and parenthesis, and ends with a `return` statement describing what the function should return. On the first line, the items in parenthesis are the arguments you want your function to take: typically objects you'll pass in and options for how you want to interact with those objects.\n",
    "\n",
    "<br><br>\n",
    "Our function below will take in a `Series`, or the column from the data frame we want to analyze. We'll also add in an option to sort our results called `sort_option`, and we'll pass that function argument to our calls of `value_counts()` within our function. We'll also set the default to not sort our results in decending frequency but by standard alpanumeric sort.</div>"
   ]
  },
  {
   "cell_type": "code",
   "execution_count": 45,
   "metadata": {
    "collapsed": true
   },
   "outputs": [],
   "source": [
    "def proc_freq(series, sort_option=False):    \n",
    "    # Create the four series of value counts with different arguments\n",
    "    frequency = series.value_counts(sort=sort_option)\n",
    "    percent = series.value_counts(sort=sort_option, normalize=True)\n",
    "    cumulative_frequency = series.value_counts(sort=sort_option).cumsum()\n",
    "    cumulative_percent = series.value_counts(sort=sort_option, normalize=True).cumsum()\n",
    "    \n",
    "    # Create a list of the series and concatenate them all row-wise\n",
    "    frequency_data = [frequency, percent, cumulative_frequency, cumulative_percent]\n",
    "    freq_table = pd.concat(frequency_data, axis=1)\n",
    "    \n",
    "    # Rename columns in the resulting data frame & rename index\n",
    "    freq_table.columns = ['Frequency', 'Percent', 'Cumulative Frequency', 'Cumulative Percent']\n",
    "    freq_table.index.name = series.name\n",
    "    \n",
    "    return freq_table"
   ]
  },
  {
   "cell_type": "markdown",
   "metadata": {},
   "source": [
    "<div class=\"pynote\">\n",
    "<b>Python Note</b>:\n",
    "This last step may seem like a bit of a leap -- where did all of that code come from? I don't want to give the illusion that the entire function popped into my head all at once. It took some experimenting beforehand to understand how it would all fit together and I worked through a few small tweaks before I finalized the version you see here.\n",
    "<br><br>\n",
    "You should try and approach learning a new language with an open mind and curious attitude -- experimenting with code is an essential part of learning. There really is no 'messing up', you can redefine objects and functions as much as you need and you can iterate as long as it takes to get a satisfactory result.\n",
    "</div>"
   ]
  },
  {
   "cell_type": "markdown",
   "metadata": {},
   "source": [
    "Now that we've defined our function, let's see if it works!"
   ]
  },
  {
   "cell_type": "code",
   "execution_count": 51,
   "metadata": {
    "collapsed": false
   },
   "outputs": [
    {
     "data": {
      "text/html": [
       "<div>\n",
       "<table border=\"1\" class=\"dataframe\">\n",
       "  <thead>\n",
       "    <tr style=\"text-align: right;\">\n",
       "      <th></th>\n",
       "      <th>Frequency</th>\n",
       "      <th>Percent</th>\n",
       "      <th>Cumulative Frequency</th>\n",
       "      <th>Cumulative Percent</th>\n",
       "    </tr>\n",
       "    <tr>\n",
       "      <th>make</th>\n",
       "      <th></th>\n",
       "      <th></th>\n",
       "      <th></th>\n",
       "      <th></th>\n",
       "    </tr>\n",
       "  </thead>\n",
       "  <tbody>\n",
       "    <tr>\n",
       "      <th>AMC</th>\n",
       "      <td>3</td>\n",
       "      <td>0.115385</td>\n",
       "      <td>3</td>\n",
       "      <td>0.115385</td>\n",
       "    </tr>\n",
       "    <tr>\n",
       "      <th>BMW</th>\n",
       "      <td>1</td>\n",
       "      <td>0.038462</td>\n",
       "      <td>4</td>\n",
       "      <td>0.153846</td>\n",
       "    </tr>\n",
       "    <tr>\n",
       "      <th>Audi</th>\n",
       "      <td>2</td>\n",
       "      <td>0.076923</td>\n",
       "      <td>6</td>\n",
       "      <td>0.230769</td>\n",
       "    </tr>\n",
       "    <tr>\n",
       "      <th>Datsun</th>\n",
       "      <td>4</td>\n",
       "      <td>0.153846</td>\n",
       "      <td>10</td>\n",
       "      <td>0.384615</td>\n",
       "    </tr>\n",
       "    <tr>\n",
       "      <th>Buick</th>\n",
       "      <td>7</td>\n",
       "      <td>0.269231</td>\n",
       "      <td>17</td>\n",
       "      <td>0.653846</td>\n",
       "    </tr>\n",
       "    <tr>\n",
       "      <th>Cad.</th>\n",
       "      <td>3</td>\n",
       "      <td>0.115385</td>\n",
       "      <td>20</td>\n",
       "      <td>0.769231</td>\n",
       "    </tr>\n",
       "    <tr>\n",
       "      <th>Chev.</th>\n",
       "      <td>6</td>\n",
       "      <td>0.230769</td>\n",
       "      <td>26</td>\n",
       "      <td>1.000000</td>\n",
       "    </tr>\n",
       "  </tbody>\n",
       "</table>\n",
       "</div>"
      ],
      "text/plain": [
       "        Frequency   Percent  Cumulative Frequency  Cumulative Percent\n",
       "make                                                                 \n",
       "AMC             3  0.115385                     3            0.115385\n",
       "BMW             1  0.038462                     4            0.153846\n",
       "Audi            2  0.076923                     6            0.230769\n",
       "Datsun          4  0.153846                    10            0.384615\n",
       "Buick           7  0.269231                    17            0.653846\n",
       "Cad.            3  0.115385                    20            0.769231\n",
       "Chev.           6  0.230769                    26            1.000000"
      ]
     },
     "execution_count": 51,
     "metadata": {},
     "output_type": "execute_result"
    }
   ],
   "source": [
    "proc_freq(auto['make'])"
   ]
  },
  {
   "cell_type": "markdown",
   "metadata": {},
   "source": [
    "We should also validate that our function works as expected with the `sort_option` set to `False`."
   ]
  },
  {
   "cell_type": "code",
   "execution_count": 52,
   "metadata": {
    "collapsed": false
   },
   "outputs": [
    {
     "data": {
      "text/html": [
       "<div>\n",
       "<table border=\"1\" class=\"dataframe\">\n",
       "  <thead>\n",
       "    <tr style=\"text-align: right;\">\n",
       "      <th></th>\n",
       "      <th>Frequency</th>\n",
       "      <th>Percent</th>\n",
       "      <th>Cumulative Frequency</th>\n",
       "      <th>Cumulative Percent</th>\n",
       "    </tr>\n",
       "    <tr>\n",
       "      <th>make</th>\n",
       "      <th></th>\n",
       "      <th></th>\n",
       "      <th></th>\n",
       "      <th></th>\n",
       "    </tr>\n",
       "  </thead>\n",
       "  <tbody>\n",
       "    <tr>\n",
       "      <th>Buick</th>\n",
       "      <td>7</td>\n",
       "      <td>0.269231</td>\n",
       "      <td>7</td>\n",
       "      <td>0.269231</td>\n",
       "    </tr>\n",
       "    <tr>\n",
       "      <th>Chev.</th>\n",
       "      <td>6</td>\n",
       "      <td>0.230769</td>\n",
       "      <td>13</td>\n",
       "      <td>0.500000</td>\n",
       "    </tr>\n",
       "    <tr>\n",
       "      <th>Datsun</th>\n",
       "      <td>4</td>\n",
       "      <td>0.153846</td>\n",
       "      <td>17</td>\n",
       "      <td>0.653846</td>\n",
       "    </tr>\n",
       "    <tr>\n",
       "      <th>Cad.</th>\n",
       "      <td>3</td>\n",
       "      <td>0.115385</td>\n",
       "      <td>20</td>\n",
       "      <td>0.769231</td>\n",
       "    </tr>\n",
       "    <tr>\n",
       "      <th>AMC</th>\n",
       "      <td>3</td>\n",
       "      <td>0.115385</td>\n",
       "      <td>23</td>\n",
       "      <td>0.884615</td>\n",
       "    </tr>\n",
       "    <tr>\n",
       "      <th>Audi</th>\n",
       "      <td>2</td>\n",
       "      <td>0.076923</td>\n",
       "      <td>25</td>\n",
       "      <td>0.961538</td>\n",
       "    </tr>\n",
       "    <tr>\n",
       "      <th>BMW</th>\n",
       "      <td>1</td>\n",
       "      <td>0.038462</td>\n",
       "      <td>26</td>\n",
       "      <td>1.000000</td>\n",
       "    </tr>\n",
       "  </tbody>\n",
       "</table>\n",
       "</div>"
      ],
      "text/plain": [
       "        Frequency   Percent  Cumulative Frequency  Cumulative Percent\n",
       "make                                                                 \n",
       "Buick           7  0.269231                     7            0.269231\n",
       "Chev.           6  0.230769                    13            0.500000\n",
       "Datsun          4  0.153846                    17            0.653846\n",
       "Cad.            3  0.115385                    20            0.769231\n",
       "AMC             3  0.115385                    23            0.884615\n",
       "Audi            2  0.076923                    25            0.961538\n",
       "BMW             1  0.038462                    26            1.000000"
      ]
     },
     "execution_count": 52,
     "metadata": {},
     "output_type": "execute_result"
    }
   ],
   "source": [
    "proc_freq(auto['make'], sort_option=True)"
   ]
  },
  {
   "cell_type": "markdown",
   "metadata": {},
   "source": [
    "<div class=\"challenge\">\n",
    "<b>Challenge</b>:\n",
    "Can you adapt our `proc_freq` function to handle missing values? Hint: `value_counts` has an option that may be relevant.\n",
    "</div>"
   ]
  },
  {
   "cell_type": "markdown",
   "metadata": {},
   "source": [
    "## Crosstabs\n",
    "### SAS Code\n",
    "    PROC FREQ DATA=auto;\n",
    "      TABLES rep78*foreign ;\n",
    "    RUN; \n",
    "#### Python Code"
   ]
  },
  {
   "cell_type": "code",
   "execution_count": 55,
   "metadata": {
    "collapsed": false
   },
   "outputs": [
    {
     "data": {
      "text/html": [
       "<div>\n",
       "<table border=\"1\" class=\"dataframe\">\n",
       "  <thead>\n",
       "    <tr style=\"text-align: right;\">\n",
       "      <th>foreign</th>\n",
       "      <th>0</th>\n",
       "      <th>1</th>\n",
       "    </tr>\n",
       "    <tr>\n",
       "      <th>rep78</th>\n",
       "      <th></th>\n",
       "      <th></th>\n",
       "    </tr>\n",
       "  </thead>\n",
       "  <tbody>\n",
       "    <tr>\n",
       "      <th>2</th>\n",
       "      <td>3</td>\n",
       "      <td>0</td>\n",
       "    </tr>\n",
       "    <tr>\n",
       "      <th>3</th>\n",
       "      <td>14</td>\n",
       "      <td>1</td>\n",
       "    </tr>\n",
       "    <tr>\n",
       "      <th>4</th>\n",
       "      <td>2</td>\n",
       "      <td>4</td>\n",
       "    </tr>\n",
       "    <tr>\n",
       "      <th>5</th>\n",
       "      <td>0</td>\n",
       "      <td>2</td>\n",
       "    </tr>\n",
       "  </tbody>\n",
       "</table>\n",
       "</div>"
      ],
      "text/plain": [
       "foreign   0  1\n",
       "rep78         \n",
       "2         3  0\n",
       "3        14  1\n",
       "4         2  4\n",
       "5         0  2"
      ]
     },
     "execution_count": 55,
     "metadata": {},
     "output_type": "execute_result"
    }
   ],
   "source": [
    "pd.crosstab(auto['rep78'], auto['foreign'])"
   ]
  },
  {
   "cell_type": "markdown",
   "metadata": {},
   "source": [
    "While SAS typically errs on the side of giving you too much, python usually doesn't give you anything you don't ask for. Using the `TABLES` statement in SAS returns the frequency, overall percent, row percent, and column percent by cell, as well as a total columns. All of these options are available in python, but you ask to ask for them to be included.\n",
    "\n",
    "For example, if we wanted a row and column for totals, we can pass `True` to the `margins` argument."
   ]
  },
  {
   "cell_type": "code",
   "execution_count": 61,
   "metadata": {
    "collapsed": false
   },
   "outputs": [
    {
     "data": {
      "text/html": [
       "<div>\n",
       "<table border=\"1\" class=\"dataframe\">\n",
       "  <thead>\n",
       "    <tr style=\"text-align: right;\">\n",
       "      <th>foreign</th>\n",
       "      <th>0</th>\n",
       "      <th>1</th>\n",
       "      <th>All</th>\n",
       "    </tr>\n",
       "    <tr>\n",
       "      <th>rep78</th>\n",
       "      <th></th>\n",
       "      <th></th>\n",
       "      <th></th>\n",
       "    </tr>\n",
       "  </thead>\n",
       "  <tbody>\n",
       "    <tr>\n",
       "      <th>2</th>\n",
       "      <td>3</td>\n",
       "      <td>0</td>\n",
       "      <td>3</td>\n",
       "    </tr>\n",
       "    <tr>\n",
       "      <th>3</th>\n",
       "      <td>14</td>\n",
       "      <td>1</td>\n",
       "      <td>15</td>\n",
       "    </tr>\n",
       "    <tr>\n",
       "      <th>4</th>\n",
       "      <td>2</td>\n",
       "      <td>4</td>\n",
       "      <td>6</td>\n",
       "    </tr>\n",
       "    <tr>\n",
       "      <th>5</th>\n",
       "      <td>0</td>\n",
       "      <td>2</td>\n",
       "      <td>2</td>\n",
       "    </tr>\n",
       "    <tr>\n",
       "      <th>All</th>\n",
       "      <td>19</td>\n",
       "      <td>7</td>\n",
       "      <td>26</td>\n",
       "    </tr>\n",
       "  </tbody>\n",
       "</table>\n",
       "</div>"
      ],
      "text/plain": [
       "foreign   0  1  All\n",
       "rep78              \n",
       "2         3  0    3\n",
       "3        14  1   15\n",
       "4         2  4    6\n",
       "5         0  2    2\n",
       "All      19  7   26"
      ]
     },
     "execution_count": 61,
     "metadata": {},
     "output_type": "execute_result"
    }
   ],
   "source": [
    "pd.crosstab(auto['rep78'], auto['foreign'], margins=True)"
   ]
  },
  {
   "cell_type": "markdown",
   "metadata": {},
   "source": [
    "We can also calculate row or column percentages by passing `'index'`, `'column'`, or `'all'` to the `normalize` argument."
   ]
  },
  {
   "cell_type": "code",
   "execution_count": 62,
   "metadata": {
    "collapsed": false
   },
   "outputs": [
    {
     "data": {
      "text/html": [
       "<div>\n",
       "<table border=\"1\" class=\"dataframe\">\n",
       "  <thead>\n",
       "    <tr style=\"text-align: right;\">\n",
       "      <th>foreign</th>\n",
       "      <th>0</th>\n",
       "      <th>1</th>\n",
       "    </tr>\n",
       "    <tr>\n",
       "      <th>rep78</th>\n",
       "      <th></th>\n",
       "      <th></th>\n",
       "    </tr>\n",
       "  </thead>\n",
       "  <tbody>\n",
       "    <tr>\n",
       "      <th>2</th>\n",
       "      <td>1.000000</td>\n",
       "      <td>0.000000</td>\n",
       "    </tr>\n",
       "    <tr>\n",
       "      <th>3</th>\n",
       "      <td>0.933333</td>\n",
       "      <td>0.066667</td>\n",
       "    </tr>\n",
       "    <tr>\n",
       "      <th>4</th>\n",
       "      <td>0.333333</td>\n",
       "      <td>0.666667</td>\n",
       "    </tr>\n",
       "    <tr>\n",
       "      <th>5</th>\n",
       "      <td>0.000000</td>\n",
       "      <td>1.000000</td>\n",
       "    </tr>\n",
       "  </tbody>\n",
       "</table>\n",
       "</div>"
      ],
      "text/plain": [
       "foreign         0         1\n",
       "rep78                      \n",
       "2        1.000000  0.000000\n",
       "3        0.933333  0.066667\n",
       "4        0.333333  0.666667\n",
       "5        0.000000  1.000000"
      ]
     },
     "execution_count": 62,
     "metadata": {},
     "output_type": "execute_result"
    }
   ],
   "source": [
    "pd.crosstab(auto['rep78'], auto['foreign'], normalize='index')"
   ]
  },
  {
   "cell_type": "markdown",
   "metadata": {},
   "source": [
    "## Using PROC MEANS for summary statistics\n",
    "### SAS Code\n",
    "     PROC MEANS DATA=auto;\n",
    "      VAR mpg;\n",
    "    RUN;\n",
    "    \n",
    "#### Python Code"
   ]
  },
  {
   "cell_type": "code",
   "execution_count": 35,
   "metadata": {
    "collapsed": false
   },
   "outputs": [
    {
     "data": {
      "text/plain": [
       "count    26.000000\n",
       "mean     20.923077\n",
       "std       4.757504\n",
       "min      14.000000\n",
       "25%      17.250000\n",
       "50%      21.000000\n",
       "75%      23.000000\n",
       "max      35.000000\n",
       "Name: mpg, dtype: float64"
      ]
     },
     "execution_count": 35,
     "metadata": {},
     "output_type": "execute_result"
    }
   ],
   "source": [
    "auto['mpg'].describe()"
   ]
  },
  {
   "cell_type": "markdown",
   "metadata": {},
   "source": [
    "## Summary Statistics by Group (CLASS statement)\n",
    "\n",
    "If we wanted to do something similar to the `CLASS` option in `PROC MEANS`, we can take advantage of the `groupby` method on our DataFrame.\n",
    "\n",
    "`groupby` is a very powerful method for data frames that allows an analyst to do complex manipuluation by groups far beyond what we're doing here.\n",
    "\n",
    "### SAS Code\n",
    "    PROC MEANS DATA=auto;\n",
    "      CLASS foreign ;\n",
    "      VAR mpg;\n",
    "    RUN;\n",
    "\n",
    "#### Python Code"
   ]
  },
  {
   "cell_type": "code",
   "execution_count": 66,
   "metadata": {
    "collapsed": false
   },
   "outputs": [
    {
     "data": {
      "text/plain": [
       "foreign       \n",
       "0        count    19.000000\n",
       "         mean     19.789474\n",
       "         std       4.035660\n",
       "         min      14.000000\n",
       "         25%      16.500000\n",
       "         50%      20.000000\n",
       "         75%      22.000000\n",
       "         max      29.000000\n",
       "1        count     7.000000\n",
       "         mean     24.000000\n",
       "         std       5.507571\n",
       "         min      17.000000\n",
       "         25%      22.000000\n",
       "         50%      23.000000\n",
       "         75%      24.500000\n",
       "         max      35.000000\n",
       "Name: mpg, dtype: float64"
      ]
     },
     "execution_count": 66,
     "metadata": {},
     "output_type": "execute_result"
    }
   ],
   "source": [
    "auto_group_foreign = auto.groupby('foreign')\n",
    "auto_group_foreign['mpg'].describe()"
   ]
  },
  {
   "cell_type": "markdown",
   "metadata": {},
   "source": [
    "<div class=\"resources\">\n",
    "<a href=\"http://pandas.pydata.org/pandas-docs/stable/groupby.html\">This</a> article from the <code>pandas</code> documentation does a good job of describing the philosophy, inner workings, and possibilities using <code>groupby</code>.\n",
    "</div>\n"
   ]
  },
  {
   "cell_type": "markdown",
   "metadata": {},
   "source": [
    "## Using PROC UNIVARIATE for detailed summary statistics\n",
    "In the *Introduction to the Features of SAS* notebook we replicated some of the functionality of `PROC UNIVARIATE` piece by piece. Instead of replicating the functionality again, we'll create a function that will tie together the critical pieces of this procedure and allow us to get a unified output similar to `PROC UNIVARIATE`. \n",
    "\n",
    "We'll try to replicate:\n",
    "- Summary Statistics\n",
    "- Skew / Kurtosis\n",
    "- Quantiles\n",
    "- Extreme observations (top / bottom 5)\n",
    "\n",
    "\n",
    "### SAS Code\n",
    "    PROC UNIVARIATE DATA=auto;\n",
    "      VAR mpg;\n",
    "    RUN; \n",
    "    \n",
    "#### Python Code"
   ]
  },
  {
   "cell_type": "code",
   "execution_count": 114,
   "metadata": {
    "collapsed": true
   },
   "outputs": [],
   "source": [
    "def proc_univariate(series):\n",
    "    # creating the descriptive statistics Series\n",
    "    # we're going to suppress the 25/75 percentiles\n",
    "    #   by passing in an empty list to the percentiles argument\n",
    "    descriptives = series.describe(percentiles=[])\n",
    "    \n",
    "    # add skew and kurtosis to our description series\n",
    "    descriptives['kurtosis'] = series.kurtosis()\n",
    "    descriptives['skewness'] = series.skew()\n",
    "    \n",
    "    quantiles_standard = series.quantile([1, .75, .5, .25, 0])\n",
    "    quantiles_extremes = series.quantile([.99, .95, .90, .10, .05, .01])\n",
    "    \n",
    "    lowest_obs = series.sort_values().head()\n",
    "    highest_obs = series.sort_values(ascending=False).head()\n",
    "\n",
    "    print(\"Univariate Statistics\")\n",
    "    print(\"Variable:\", series.name)\n",
    "    print(\"\\n--- Moments ---\")\n",
    "    print(descriptives)\n",
    "    print(\"\\n--- Quantiles ---\")\n",
    "    print(quantiles_standard)\n",
    "    print()\n",
    "    print(quantiles_extremes)\n",
    "    print(\"\\n--- Extreme Observations ---\")\n",
    "    print(\"Lowest\\n(Index, Value)\")\n",
    "    print(lowest_obs)\n",
    "    print(\"\\nHighest\\n(Index, Value)\")\n",
    "    print(highest_obs)"
   ]
  },
  {
   "cell_type": "code",
   "execution_count": 115,
   "metadata": {
    "collapsed": false
   },
   "outputs": [
    {
     "name": "stdout",
     "output_type": "stream",
     "text": [
      "Univariate Statistics\n",
      "Variable: mpg\n",
      "\n",
      "--- Moments ---\n",
      "count       26.000000\n",
      "mean        20.923077\n",
      "std          4.757504\n",
      "min         14.000000\n",
      "50%         21.000000\n",
      "max         35.000000\n",
      "kurtosis     1.792700\n",
      "skewness     0.935473\n",
      "Name: mpg, dtype: float64\n",
      "\n",
      "--- Quantiles ---\n",
      "1.00    35.00\n",
      "0.75    23.00\n",
      "0.50    21.00\n",
      "0.25    17.25\n",
      "0.00    14.00\n",
      "Name: mpg, dtype: float64\n",
      "\n",
      "0.99    33.50\n",
      "0.95    28.25\n",
      "0.90    25.50\n",
      "0.10    15.50\n",
      "0.05    14.25\n",
      "0.01    14.00\n",
      "Name: mpg, dtype: float64\n",
      "\n",
      "--- Extreme Observations ---\n",
      "Lowest\n",
      "(Index, Value)\n",
      "14    14\n",
      "13    14\n",
      "7     15\n",
      "17    16\n",
      "11    16\n",
      "Name: mpg, dtype: int64\n",
      "\n",
      "Highest\n",
      "(Index, Value)\n",
      "23    35\n",
      "16    29\n",
      "9     26\n",
      "5     25\n",
      "24    24\n",
      "Name: mpg, dtype: int64\n"
     ]
    }
   ],
   "source": [
    "proc_univariate(auto['mpg'])"
   ]
  },
  {
   "cell_type": "markdown",
   "metadata": {},
   "source": [
    "<div class=\"challenge\">\n",
    "<b>Challenge</b>:\n",
    "Can you adapt our `proc_univariate` function to include functionality similar to <code>PROC UNIVARIATE</code>'s <code>CLASS</code> statement? That is, get it to return this output for a grouped subset of observations?\n",
    "</div>"
   ]
  },
  {
   "cell_type": "markdown",
   "metadata": {},
   "source": [
    "That completes our tutorial. At this point you should be able to replicate the general functinoality of the [Descriptive Statistics](http://www.ats.ucla.edu/stat/sas/modules/descript.htm) tutorial from UCLA."
   ]
  },
  {
   "cell_type": "markdown",
   "metadata": {},
   "source": [
    "------"
   ]
  },
  {
   "cell_type": "code",
   "execution_count": 113,
   "metadata": {
    "collapsed": false
   },
   "outputs": [
    {
     "data": {
      "text/html": [
       "<link href='http://fonts.googleapis.com/css?family=Open+Sans:400italic,400,700' rel='stylesheet' type='text/css'>\n",
       "<style>\n",
       ".rendered_html h1, h2 {\n",
       "\tcolor: #004A72;\n",
       "}\n",
       "\n",
       ".rendered_html h3 {\n",
       "\tcolor: #007FC3;\n",
       "\tfont-size: 128%;\n",
       "}\n",
       ".rendered_html h4 {\n",
       "\tcolor: #007F3B;\n",
       "\tfont-size: 128%;\n",
       "}\n",
       "\n",
       ".rendered_html code {\n",
       "    font-size: 105%;\n",
       "}\n",
       "\n",
       ".pynote {\n",
       "\tbackground-color: #f4fff3;\n",
       "\tborder-left: 5px solid #6cf955;\n",
       "\tpadding: 0.5em;\n",
       "}\n",
       "\n",
       ".challenge {\n",
       "\tbackground-color: #daddff;\n",
       "\tborder-left: 5px solid #5B5EA6;\n",
       "\tpadding: 0.5em;\n",
       "}\n",
       "\n",
       ".construction {\n",
       "\tbackground-color: #fff4f3;\n",
       "\tborder-left: 5px solid #ff6058;\n",
       "\tpadding: 0.5em;\n",
       "}\n",
       "\n",
       ".resources {\n",
       "\tbackground-color: #f3f7fe;\n",
       "\tborder-left: 5px solid #6398f3;\n",
       "\tpadding: 0.5em;\n",
       "}\n",
       "\n",
       ".sas code, .sasoutput code {\n",
       "\tbackground-color: transparent;\n",
       "}\n",
       "\n",
       ".sas {\n",
       "\tbackground-color: #fffcf3;\n",
       "\tborder-left: 5px solid #ffd758;\n",
       "\tpadding: 0.5em;\n",
       "}\n",
       "\n",
       ".sasoutput {\n",
       "\tbackground-color: #ffeaad;\n",
       "\tborder-left: 5px solid #ffd758;\n",
       "\tpadding: 0.5em;\n",
       "}\n",
       "\n",
       "\n",
       "div.text_cell_render{\n",
       "    font-family: \"Open Sans\", \"Helvetica Neue\", Arial, Helvetica, Geneva, sans-serif;\n",
       "\n",
       "}\n",
       "</style>\n"
      ],
      "text/plain": [
       "<IPython.core.display.HTML object>"
      ]
     },
     "execution_count": 113,
     "metadata": {},
     "output_type": "execute_result"
    }
   ],
   "source": [
    "# This cell imports the styling for this notebook. You can safely ignore it.\n",
    "\n",
    "from IPython.display import HTML\n",
    "\n",
    "def css_styling():\n",
    "    styles = open(\"../../_styles/custom.css\", \"r\").read()\n",
    "    return HTML(styles)\n",
    "css_styling()"
   ]
  },
  {
   "cell_type": "code",
   "execution_count": 112,
   "metadata": {
    "collapsed": false
   },
   "outputs": [
    {
     "name": "stdout",
     "output_type": "stream",
     "text": [
      "Python 3.5.2 :: Anaconda 4.1.1 (x86_64)\r\n"
     ]
    }
   ],
   "source": [
    "!python -V"
   ]
  },
  {
   "cell_type": "code",
   "execution_count": null,
   "metadata": {
    "collapsed": true
   },
   "outputs": [],
   "source": []
  }
 ],
 "metadata": {
  "anaconda-cloud": {},
  "kernelspec": {
   "display_name": "Python [Root]",
   "language": "python",
   "name": "Python [Root]"
  },
  "language_info": {
   "codemirror_mode": {
    "name": "ipython",
    "version": 3
   },
   "file_extension": ".py",
   "mimetype": "text/x-python",
   "name": "python",
   "nbconvert_exporter": "python",
   "pygments_lexer": "ipython3",
   "version": "3.5.2"
  }
 },
 "nbformat": 4,
 "nbformat_minor": 0
}
