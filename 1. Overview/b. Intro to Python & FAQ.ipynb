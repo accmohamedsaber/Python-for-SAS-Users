{
 "cells": [
  {
   "cell_type": "markdown",
   "metadata": {},
   "source": [
    "# Intro to Python\n",
    "This notebook will serve as a brief Python primer arranged in Q&A fashion.\n",
    "\n",
    "**Current Questions:**\n",
    "- How do I get Python on my computer?\n",
    "- What am I looking at now? What's this coding environment?\n",
    "- I'm here to learn Python and come from SAS. What should I know?\n",
    "    - Objects\n",
    "    - Imports\n",
    "- Where can I find out about the text conventions you're using?\n",
    "- What's that stuff on the bottom of each page?\n"
   ]
  },
  {
   "cell_type": "markdown",
   "metadata": {},
   "source": [
    "## How do I get Python on my computer?\n",
    "Python comes preinstalled on most Linux and Mac computers, but only contains the standard library. Data Analysis in Python requires the use of several packages we have to install separately. The folks over at Continuum Analytics maintain the Anaconda Python distribution, which combines all the necessary packages (and more) for Data Analysis."
   ]
  },
  {
   "cell_type": "markdown",
   "metadata": {},
   "source": [
    "<div class=\"resources\">\n",
    "Download Anaconda Python Here: http://continuum.io/downloads\n",
    "<br><br>\n",
    "Instructions for installation are here: http://docs.continuum.io/anaconda/install\n",
    "</div>"
   ]
  },
  {
   "cell_type": "markdown",
   "metadata": {},
   "source": [
    "After installation, you can start the Notebook environment from the Launcher that should now be in your Applications folder."
   ]
  },
  {
   "cell_type": "markdown",
   "metadata": {},
   "source": [
    "## What am I looking at now? What's this coding environment?\n",
    "You're looking at an [IPython Notebook](http://ipython.org/notebook.html) (you may also see it is a [Jupyter](https://jupyter.org/) Notebook). The notebook environment allows us to combine code execution, rich text, mathematics, plots and rich media all in one environment. Everything you're reading now is rich text formatted using Markdown. But, if I want to switch over to Python, I can just add a code cell below:"
   ]
  },
  {
   "cell_type": "code",
   "execution_count": 1,
   "metadata": {
    "collapsed": false
   },
   "outputs": [
    {
     "data": {
      "text/plain": [
       "3.0"
      ]
     },
     "execution_count": 1,
     "metadata": {},
     "output_type": "execute_result"
    }
   ],
   "source": [
    "# Comments in Python start with the pound symbol.\n",
    "# Let's do some math!\n",
    "# Remember PEMDAS?\n",
    "\n",
    "-5 + 4 * 8 / 4"
   ]
  },
  {
   "cell_type": "markdown",
   "metadata": {},
   "source": [
    "We'll usually use it to display output from code or plots, but we can also add media, HTML, and anything else we want. "
   ]
  },
  {
   "cell_type": "code",
   "execution_count": 2,
   "metadata": {
    "collapsed": false
   },
   "outputs": [
    {
     "data": {
      "text/html": [
       "<iframe width=\"420\" height=\"315\" src=\"https://www.youtube.com/embed/aU4pyiB-kq0\" frameborder=\"0\" allowfullscreen></iframe>"
      ],
      "text/plain": [
       "<IPython.core.display.HTML object>"
      ]
     },
     "execution_count": 2,
     "metadata": {},
     "output_type": "execute_result"
    }
   ],
   "source": [
    "from IPython.display import HTML\n",
    "HTML('<iframe width=\"420\" height=\"315\" src=\"https://www.youtube.com/embed/aU4pyiB-kq0\" frameborder=\"0\" allowfullscreen></iframe>')"
   ]
  },
  {
   "cell_type": "markdown",
   "metadata": {},
   "source": [
    "<div class=\"resources\">\n",
    "For the full docs on IPython Notebook: http://ipython.org/ipython-doc/stable/notebook/index.html\n",
    "<br><br>\n",
    "Tutorials: http://nbviewer.ipython.org/github/ipython/ipython/blob/master/examples/Notebook/Index.ipynb\n",
    "</div>"
   ]
  },
  {
   "cell_type": "markdown",
   "metadata": {},
   "source": [
    "## I'm here to learn Python and come from SAS. What should I know?\n",
    "There are a few things that will require you to *think* about programming differently. \n",
    "### Objects\n",
    "One twist is that we'll be doing a lot of object-oriented programming in SAS. Coming from SAS, the only thing I thought of as an *object* in the traditional sense was the dataset. I could read it in, apply procedures to it, and export it to a file (another object).\n",
    "\n",
    "But what if the procedures I applied to the dataset were also objects that I could interact with? For example, instead of running `PROC LOGISTIC`, instead I interacted with a *Logistic Regression Object*. With this object I can call functions or methods on it to do things with it like fit it to data, predict new cases, or see its attributes (coefficients for example).\n",
    "\n",
    "This will become more clear after going through some examples, but hopefully it's at least got you thinking. \n",
    "\n",
    "**Toy Object Example**  \n",
    "The standard way to instantiate (create) an object is like this:\n",
    "\n",
    "`aNewCar = Car()`\n",
    "\n",
    "We now have an object called `aNewCar` that's a copy of the `Car` object. Let's assume that we can do something with this car like drive it, and our object has a `drive()` method. The standard way to call a method on an object is:\n",
    "\n",
    "`aNewCar.drive(mph=60)`\n",
    "\n",
    "I've also supplied an argument for the method, `mph=60`, telling it how fast I want it to drive. Not all methods have arguments, so you may often see:\n",
    "\n",
    "`aNewCar.stop()`\n",
    "\n",
    "Classes also have attributes or data. To display an attribute a similar syntax is used, but attributes won't have parenthesis. Assuming our car has a `wheels` attribute, we could see what the value of it is by doing:\n",
    "\n",
    "`aNewCar.wheels`\n",
    "\n",
    "And this would return the number of wheels on our car (hopefully 4).\n",
    "\n"
   ]
  },
  {
   "cell_type": "markdown",
   "metadata": {},
   "source": [
    "<div class=\"resources\">\n",
    "\n",
    "For a good general tutorial of classes: http://interactivepython.org/runestone/static/thinkcspy/Classes/classesintro.html\n",
    "        </div>"
   ]
  },
  {
   "cell_type": "markdown",
   "metadata": {},
   "source": [
    "### Imports\n",
    "This is also one of the more challenging aspects of transitioning to Python: importing modules and packages. In code you'll typically see three main ways of importing a module. \n",
    "\n",
    "** 1. Importing an entire module**  \n",
    "You may see an import like the following:\n",
    "\n",
    "`import StringIO`\n",
    "\n",
    "This will import the entire `StringIO` module and create a reference to it. The documentation is a good place to see what classes and functions are available within that module. If we want to create an object of the `StringIO` class (confusingly from the `StringIO` module) we would do this after importing:\n",
    "\n",
    "`myString = StringIO.String()`\n",
    "\n",
    "It's similar to calling a function on a class, but also a bit different, since now `myString` is that object and we can still call functions on that.\n",
    "\n",
    "** 2. Importing an entire module and changing the reference name.**  \n",
    "You'll see this with the `pandas` package each time we import it. The statement will say:\n",
    "\n",
    "`import pandas as pd`\n",
    "\n",
    "This does the same as [1] but instead of referencing everything from the module by having to write `pandas.object`, we can now write `pd.object`. You may think that just makes us lazy, but when you type it a lot it saves a bunch of time. Plus everyone does it.\n",
    "\n",
    "** 3. Importing specific objects from modules **\n",
    "You'll see this when we start using the scikit-learn library. We almost never want to import the entire thing when we're only going to use single classes from it. For example, if we want to do a logistic regression, we'd type:\n",
    "\n",
    "`from sklearn.linear_model import LogisticRegression`\n",
    "\n",
    "There are a few things that may be confusing about this. First, `sklearn` is itself organized by modules, and the `LogisticRegression` class falls under the `linear_model` module. You'll also notice there are no parenthesis here since we're just importing.\n",
    "\n",
    "Most importantly, we've imported the object itself directly into our namespace. Thus, we **do not** have to type something like `logit = sklearn.linear_model.LogisticRegression()`, but instead:\n",
    "\n",
    "`logit = LogisticRegression()`\n",
    "\n",
    "By comparison, we could have done the same thing with our StringIO object from example one and done the following:\n",
    "\n",
    "`from StringIO import StringIO`  \n",
    "`myString = StringIO()`\n",
    "\n",
    "But this gets confusing and isn't really necessary since `StringIO` is not that large of a module.\n",
    "\n"
   ]
  },
  {
   "cell_type": "markdown",
   "metadata": {},
   "source": [
    "<div class=\"resources\">\n",
    "For more on importing: https://grahamwideman.wikispaces.com/Python-+import+statement\n",
    "</div>"
   ]
  },
  {
   "cell_type": "markdown",
   "metadata": {},
   "source": [
    "<div class='pynote'>\n",
    "<b>Python Note</b>: It is customary to import all of the functions, classes, and modules you will need at the beginning of a program. Sometimes when doing analysis you won't realize you need a module until halfway through -- that's okay, go back to the top and add the import statement to your import cell.\n",
    "<br><br>\n",
    "With that said, <b>I will be importing modules as needed in the code</b> to increase flow and modularity of the examples. Additionally, I hope this reduces confusion among newcomers who might open the notebook file and get immediately intimidated by several lines of code with various import formats.\n",
    "</div>"
   ]
  },
  {
   "cell_type": "markdown",
   "metadata": {},
   "source": [
    "## Woah, that green box is cool! Where can I find out about the text conventions you're using?\n",
    "Right over [here](Conventions.ipynb)."
   ]
  },
  {
   "cell_type": "markdown",
   "metadata": {},
   "source": [
    "## What's that stuff on the bottom of each page?\n",
    "You'll usually see two things:\n",
    "1. A printout of the python version number, as well as the vesrion numbers of any packages I use. This will be helpful if something doesn't work because of version differences.\n",
    "2. A function that loads the CSS that styles each page. Looks good, right?"
   ]
  },
  {
   "cell_type": "markdown",
   "metadata": {},
   "source": [
    "---"
   ]
  },
  {
   "cell_type": "code",
   "execution_count": 36,
   "metadata": {
    "collapsed": false
   },
   "outputs": [
    {
     "name": "stdout",
     "output_type": "stream",
     "text": [
      "Python 2.7.10 :: Anaconda 2.2.0 (x86_64)\r\n"
     ]
    }
   ],
   "source": [
    "# Housekeeping\n",
    "!python -V"
   ]
  },
  {
   "cell_type": "code",
   "execution_count": 3,
   "metadata": {
    "collapsed": false
   },
   "outputs": [
    {
     "data": {
      "text/html": [
       "<link href='http://fonts.googleapis.com/css?family=Open+Sans:400italic,400,700' rel='stylesheet' type='text/css'>\n",
       "<style>\n",
       ".rendered_html h1, h2 {\n",
       "\tcolor: #004A72;\n",
       "}\n",
       "\n",
       ".rendered_html h3 {\n",
       "\tcolor: #007FC3;\n",
       "\tfont-size: 128%;\n",
       "}\n",
       ".rendered_html h4 {\n",
       "\tcolor: #007F3B;\n",
       "\tfont-size: 128%;\n",
       "}\n",
       "\n",
       ".rendered_html code {\n",
       "    font-size: 105%;\n",
       "}\n",
       "\n",
       ".pynote {\n",
       "\tbackground-color: #f4fff3;\n",
       "\tborder-left: 5px solid #6cf955;\n",
       "\tpadding: 0.5em;\n",
       "}\n",
       "\n",
       ".challenge {\n",
       "\tbackground-color: #eeeef6;\n",
       "\tborder-left: 5px solid #5B5EA6;\n",
       "\tpadding: 0.5em;\n",
       "}\n",
       "\n",
       ".construction {\n",
       "\tbackground-color: #fff4f3;\n",
       "\tborder-left: 5px solid #ff6058;\n",
       "\tpadding: 0.5em;\n",
       "}\n",
       "\n",
       ".resources {\n",
       "\tbackground-color: #f3f7fe;\n",
       "\tborder-left: 5px solid #6398f3;\n",
       "\tpadding: 0.5em;\n",
       "}\n",
       "\n",
       ".sas code, .sasoutput code {\n",
       "\tbackground-color: transparent;\n",
       "}\n",
       "\n",
       ".sas {\n",
       "\tbackground-color: #fffcf3;\n",
       "\tborder-left: 5px solid #ffd758;\n",
       "\tpadding: 0.5em;\n",
       "}\n",
       "\n",
       ".sasoutput {\n",
       "\tbackground-color: #ffeaad;\n",
       "\tborder-left: 5px solid #ffd758;\n",
       "\tpadding: 0.5em;\n",
       "}\n",
       "\n",
       "\n",
       "div.text_cell_render{\n",
       "    font-family: \"Open Sans\", \"Helvetica Neue\", Arial, Helvetica, Geneva, sans-serif;\n",
       "\n",
       "}\n",
       "</style>\n"
      ],
      "text/plain": [
       "<IPython.core.display.HTML object>"
      ]
     },
     "execution_count": 3,
     "metadata": {},
     "output_type": "execute_result"
    }
   ],
   "source": [
    "# This cell imports the styling for this notebook. You can safely ignore it.\n",
    "\n",
    "from IPython.display import HTML\n",
    "\n",
    "def css_styling():\n",
    "    styles = open(\"../_styles/custom.css\", \"r\").read()\n",
    "    return HTML(styles)\n",
    "css_styling()"
   ]
  },
  {
   "cell_type": "code",
   "execution_count": null,
   "metadata": {
    "collapsed": true
   },
   "outputs": [],
   "source": []
  }
 ],
 "metadata": {
  "kernelspec": {
   "display_name": "Python [Root]",
   "language": "python",
   "name": "Python [Root]"
  },
  "language_info": {
   "codemirror_mode": {
    "name": "ipython",
    "version": 3
   },
   "file_extension": ".py",
   "mimetype": "text/x-python",
   "name": "python",
   "nbconvert_exporter": "python",
   "pygments_lexer": "ipython3",
   "version": "3.5.2"
  }
 },
 "nbformat": 4,
 "nbformat_minor": 0
}
