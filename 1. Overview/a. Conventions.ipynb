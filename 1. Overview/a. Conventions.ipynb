{
 "cells": [
  {
   "cell_type": "markdown",
   "metadata": {},
   "source": [
    "# Conventions\n",
    "This notebook briefly covers text conventions you'll see throughout the notebooks.\n",
    "\n",
    "## Code\n",
    "Inline code, regardless of SAS or Python, will look like this: `code = \"This is some code\"`\n",
    "\n",
    "I'll also use code blocks, for example:  \n",
    "\n",
    "    print \"Python is great, right?\"\n",
    "    print \"Right!\""
   ]
  },
  {
   "cell_type": "markdown",
   "metadata": {},
   "source": [
    "## Programming Notes \n",
    "Most of the code presented will be executed in a cell and explained before or after that execution. Any code relating to specific functions or translations fit this bill.\n",
    "\n",
    "Any notes about the Python language itself that are out of the scope of the tutorial topic (syntax, gotchas, reminders, etc.) will be shown in a green box like the following"
   ]
  },
  {
   "cell_type": "markdown",
   "metadata": {},
   "source": [
    "<div class=\"pynote\">\n",
    "<b>Python Note: </b>I'm a note about Python. Weee!\n",
    "<br><br>\n",
    "Oh, you want a programming tip? How about a reminder that comments in python start with `#`?\n",
    "</div>"
   ]
  },
  {
   "cell_type": "markdown",
   "metadata": {},
   "source": [
    "## External Resources\n",
    "Sometimes if additional reading or resources would benefit the exercise, I'll link to them in a box:"
   ]
  },
  {
   "cell_type": "markdown",
   "metadata": {},
   "source": [
    "<div class=\"resources\">\n",
    "I totally stole the CSS classes idea from this guy's notebook: http://radimrehurek.com/data_science_python/\n",
    "</div>"
   ]
  },
  {
   "cell_type": "markdown",
   "metadata": {},
   "source": [
    "## Challenges\n",
    "If there's a good opportunity to take some code and expand it, a challenge will be presented. Think of these as exercises that will help you expand your knowledge."
   ]
  },
  {
   "cell_type": "markdown",
   "metadata": {},
   "source": [
    "<div class=\"challenge\">\n",
    "<b>Challenge</b>:\n",
    "Can you complete all the challenges found in these notebooks?\n",
    "</div>"
   ]
  },
  {
   "cell_type": "markdown",
   "metadata": {},
   "source": [
    "## Under Construction\n",
    "Initially I'm going for a general approach in which I'll try to capture the *essence* of any SAS tutorial or code. This means sometimes exact functionality won't be replicated, but I'll do my best to give you the tools to solve the problem at hand.\n",
    "\n",
    "I'll also attempt to open a [GitHub issue](https://github.com/pmbaumgartner/Python-for-SAS-Users/issues) with any unfinished sections as well. You're welcome to add issues as well!"
   ]
  },
  {
   "cell_type": "markdown",
   "metadata": {},
   "source": [
    "<div class=\"construction\">\n",
    "I'm under construction... be patient!\n",
    "</div>"
   ]
  },
  {
   "cell_type": "markdown",
   "metadata": {},
   "source": [
    "<div class=\"sas\">\n",
    "<code>PROC BOOGERS\n",
    "    SAS CODE;\n",
    "    RUN;\n",
    "</code></div>\n",
    "<div class=\"sasoutput\">\n",
    "<code>and followed by output\n",
    "and more\n",
    "more\n",
    "</code>\n",
    "</div>"
   ]
  },
  {
   "cell_type": "code",
   "execution_count": 3,
   "metadata": {
    "collapsed": false
   },
   "outputs": [
    {
     "data": {
      "text/html": [
       "<link href='http://fonts.googleapis.com/css?family=Open+Sans:400italic,400,700' rel='stylesheet' type='text/css'>\n",
       "<style>\n",
       ".rendered_html h1, h2 {\n",
       "\tcolor: #004A72;\n",
       "}\n",
       "\n",
       ".rendered_html h3 {\n",
       "\tcolor: #007FC3;\n",
       "\tfont-size: 128%;\n",
       "}\n",
       ".rendered_html h4 {\n",
       "\tcolor: #007F3B;\n",
       "\tfont-size: 128%;\n",
       "}\n",
       "\n",
       ".rendered_html code {\n",
       "    font-size: 105%;\n",
       "}\n",
       "\n",
       ".pynote {\n",
       "\tbackground-color: #f4fff3;\n",
       "\tborder-left: 5px solid #6cf955;\n",
       "\tpadding: 0.5em;\n",
       "}\n",
       "\n",
       ".challenge {\n",
       "\tbackground-color: #eeeef6;\n",
       "\tborder-left: 5px solid #5B5EA6;\n",
       "\tpadding: 0.5em;\n",
       "}\n",
       "\n",
       ".construction {\n",
       "\tbackground-color: #fff4f3;\n",
       "\tborder-left: 5px solid #ff6058;\n",
       "\tpadding: 0.5em;\n",
       "}\n",
       "\n",
       ".resources {\n",
       "\tbackground-color: #f3f7fe;\n",
       "\tborder-left: 5px solid #6398f3;\n",
       "\tpadding: 0.5em;\n",
       "}\n",
       "\n",
       ".sas code, .sasoutput code {\n",
       "\tbackground-color: transparent;\n",
       "}\n",
       "\n",
       ".sas {\n",
       "\tbackground-color: #fffcf3;\n",
       "\tborder-left: 5px solid #ffd758;\n",
       "\tpadding: 0.5em;\n",
       "}\n",
       "\n",
       ".sasoutput {\n",
       "\tbackground-color: #ffeaad;\n",
       "\tborder-left: 5px solid #ffd758;\n",
       "\tpadding: 0.5em;\n",
       "}\n",
       "\n",
       "\n",
       "div.text_cell_render{\n",
       "    font-family: \"Open Sans\", \"Helvetica Neue\", Arial, Helvetica, Geneva, sans-serif;\n",
       "\n",
       "}\n",
       "</style>\n"
      ],
      "text/plain": [
       "<IPython.core.display.HTML object>"
      ]
     },
     "execution_count": 3,
     "metadata": {},
     "output_type": "execute_result"
    }
   ],
   "source": [
    "# This cell imports the styling for this notebook. You can safely ignore it.\n",
    "\n",
    "from IPython.display import HTML\n",
    "\n",
    "def css_styling():\n",
    "    styles = open(\"../_styles/custom.css\", \"r\").read()\n",
    "    return HTML(styles)\n",
    "css_styling()"
   ]
  },
  {
   "cell_type": "code",
   "execution_count": null,
   "metadata": {
    "collapsed": true
   },
   "outputs": [],
   "source": []
  }
 ],
 "metadata": {
  "kernelspec": {
   "display_name": "Python [Root]",
   "language": "python",
   "name": "Python [Root]"
  },
  "language_info": {
   "codemirror_mode": {
    "name": "ipython",
    "version": 3
   },
   "file_extension": ".py",
   "mimetype": "text/x-python",
   "name": "python",
   "nbconvert_exporter": "python",
   "pygments_lexer": "ipython3",
   "version": "3.5.2"
  }
 },
 "nbformat": 4,
 "nbformat_minor": 0
}
